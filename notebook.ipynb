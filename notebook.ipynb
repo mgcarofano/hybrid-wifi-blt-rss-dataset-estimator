{
 "cells": [
  {
   "cell_type": "markdown",
   "metadata": {},
   "source": [
    "# Data Analytics Project Work\n",
    "### File for testing different stuff for the project :D"
   ]
  },
  {
   "cell_type": "code",
   "execution_count": 1,
   "metadata": {},
   "outputs": [
    {
     "ename": "ModuleNotFoundError",
     "evalue": "No module named 'pandas'",
     "output_type": "error",
     "traceback": [
      "\u001b[0;31m---------------------------------------------------------------------------\u001b[0m",
      "\u001b[0;31mModuleNotFoundError\u001b[0m                       Traceback (most recent call last)",
      "Cell \u001b[0;32mIn[1], line 2\u001b[0m\n\u001b[1;32m      1\u001b[0m \u001b[38;5;66;03m# imports\u001b[39;00m\n\u001b[0;32m----> 2\u001b[0m \u001b[38;5;28;01mimport\u001b[39;00m \u001b[38;5;21;01mpandas\u001b[39;00m \u001b[38;5;28;01mas\u001b[39;00m \u001b[38;5;21;01mpd\u001b[39;00m\n\u001b[1;32m      3\u001b[0m \u001b[38;5;28;01mimport\u001b[39;00m \u001b[38;5;21;01mnumpy\u001b[39;00m \u001b[38;5;28;01mas\u001b[39;00m \u001b[38;5;21;01mnp\u001b[39;00m\n\u001b[1;32m      4\u001b[0m \u001b[38;5;28;01mimport\u001b[39;00m \u001b[38;5;21;01mpprint\u001b[39;00m\n",
      "\u001b[0;31mModuleNotFoundError\u001b[0m: No module named 'pandas'"
     ]
    }
   ],
   "source": [
    "# imports\n",
    "import pandas as pd\n",
    "import numpy as np\n",
    "import pprint\n",
    "\n",
    "# Testing on reading one of the datasets and creating a Pandas DataFrame - object\n",
    "test_df = pd.read_csv(\"HybridDataset_for_RSSbasedLocalization-main/Scenario 0/RPI/RSS_BLT_Dataset/Distanza10.csv\", sep=';')\n",
    "test_df.head()"
   ]
  },
  {
   "cell_type": "code",
   "execution_count": null,
   "metadata": {},
   "outputs": [
    {
     "ename": "",
     "evalue": "",
     "output_type": "error",
     "traceback": [
      "\u001b[1;31mRunning cells with '/usr/bin/python3' requires the ipykernel package.\n",
      "\u001b[1;31mRun the following command to install 'ipykernel' into the Python environment. \n",
      "\u001b[1;31mCommand: '/usr/bin/python3 -m pip install ipykernel -U --user --force-reinstall'"
     ]
    }
   ],
   "source": [
    "test_df.info()"
   ]
  },
  {
   "cell_type": "markdown",
   "metadata": {},
   "source": [
    "Everything seemed to be working great as we got the first five entries of the dataset with a .head()– method and some information about the dataset with the .info()– method."
   ]
  },
  {
   "cell_type": "code",
   "execution_count": null,
   "metadata": {},
   "outputs": [
    {
     "ename": "",
     "evalue": "",
     "output_type": "error",
     "traceback": [
      "\u001b[1;31mRunning cells with '/usr/bin/python3' requires the ipykernel package.\n",
      "\u001b[1;31mRun the following command to install 'ipykernel' into the Python environment. \n",
      "\u001b[1;31mCommand: '/usr/bin/python3 -m pip install ipykernel -U --user --force-reinstall'"
     ]
    }
   ],
   "source": [
    "def read_data(anchors, directory_path):\n",
    "    \"\"\"\n",
    "    Reads the csv-files for one specified measurement case and adds them into a dict of dataframes.\n",
    "    \n",
    "    Parameters:\n",
    "    anchors (list): List of anchors, for example [\"Anchor 1\", \"Anchor 2\", \"Anchor 3\"...]\n",
    "    directory path (string): The relative directory path of the folder which contains the wanted anchor-csv.files.\n",
    "\n",
    "    returns: \n",
    "    scenario_dataframes (dict): a dict which keys are the anchor names and values are the respective dataframes.\n",
    "    \"\"\"\n",
    "    scenario_dataframes = {}\n",
    "\n",
    "    for anchor in anchors:\n",
    "        current_df = pd.read_csv(directory_path + anchor + \".csv\", sep=';')\n",
    "        scenario_dataframes[anchor.replace(\".csv\",\"\")] = current_df\n",
    "    \n",
    "    return scenario_dataframes\n"
   ]
  },
  {
   "cell_type": "code",
   "execution_count": null,
   "metadata": {},
   "outputs": [
    {
     "ename": "",
     "evalue": "",
     "output_type": "error",
     "traceback": [
      "\u001b[1;31mRunning cells with '/usr/bin/python3' requires the ipykernel package.\n",
      "\u001b[1;31mRun the following command to install 'ipykernel' into the Python environment. \n",
      "\u001b[1;31mCommand: '/usr/bin/python3 -m pip install ipykernel -U --user --force-reinstall'"
     ]
    }
   ],
   "source": [
    "def calculate_smallest_dataset(dataframes):\n",
    "    \"\"\"\n",
    "    Calculates the minimum over all dataframes' length.\n",
    "\n",
    "    Parameters:\n",
    "    dataframes (dict): a dict which keys are the anchor names and values are the respective dataframes.\n",
    "\n",
    "    Returns:\n",
    "    minimum_length (int): an integer which value represents the minimum over all dataframes' length.\n",
    "    \"\"\"\n",
    "\n",
    "    sizes = []\n",
    "\n",
    "    for anchor in dataframes:\n",
    "        df = dataframes[anchor]\n",
    "        sizes.append(len(df))\n",
    "\n",
    "    return min(sizes)\n",
    "        "
   ]
  },
  {
   "cell_type": "code",
   "execution_count": null,
   "metadata": {},
   "outputs": [
    {
     "ename": "",
     "evalue": "",
     "output_type": "error",
     "traceback": [
      "\u001b[1;31mRunning cells with '/usr/bin/python3' requires the ipykernel package.\n",
      "\u001b[1;31mRun the following command to install 'ipykernel' into the Python environment. \n",
      "\u001b[1;31mCommand: '/usr/bin/python3 -m pip install ipykernel -U --user --force-reinstall'"
     ]
    }
   ],
   "source": [
    "def calculate_mean_values(scenario_dataframe, length): \n",
    "    \"\"\"\n",
    "    Calculates the mean value over a given amount of bursts.\n",
    "\n",
    "    Parameters:\n",
    "    scenario_dataframe (DataFrame): A DataFrame-object containing the dataset of one anchor.\n",
    "    length (int): an integer which value represents the number of data to read in the dataset.\n",
    "\n",
    "    Returns:\n",
    "    mean_values (list): Returns a list of mean values over the given amount of bursts.\n",
    "    \"\"\"\n",
    "    \n",
    "    mean_values = []\n",
    "\n",
    "    power_values = scenario_dataframe[\"Rx Power [dBm]\"].to_list()\n",
    "    bursts = length // 10\n",
    "    burst_size = length // bursts\n",
    "\n",
    "    # print(\"length: \", length, \", bursts: \", bursts, \", burst_size: \", burst_size)\n",
    "\n",
    "    start = 0\n",
    "    for i in range(bursts):\n",
    "        # end = start + burst_size if i < bursts - 1 else length - 1\n",
    "        end = start + burst_size\n",
    "        # print(\"start: \", start, \", end: \", end)\n",
    "        # print(\"power_values: \", power_values[start:end])\n",
    "        mean_values.append(round(np.mean(power_values[start:end]), 4))\n",
    "        start = end\n",
    "\n",
    "    if (start < length):\n",
    "        end = length\n",
    "        # print(\"start: \", start, \", end: \", end)\n",
    "        mean_values.append(round(np.mean(power_values[start:end]), 4))\n",
    "        start = end\n",
    "    \n",
    "    return mean_values"
   ]
  },
  {
   "cell_type": "code",
   "execution_count": null,
   "metadata": {},
   "outputs": [
    {
     "ename": "",
     "evalue": "",
     "output_type": "error",
     "traceback": [
      "\u001b[1;31mRunning cells with '/usr/bin/python3' requires the ipykernel package.\n",
      "\u001b[1;31mRun the following command to install 'ipykernel' into the Python environment. \n",
      "\u001b[1;31mCommand: '/usr/bin/python3 -m pip install ipykernel -U --user --force-reinstall'"
     ]
    }
   ],
   "source": [
    "def calculate_estimates(p_initial, n_value, mean_values):\n",
    "    \"\"\"\n",
    "    Calculates the distance estimates for each anchor.\n",
    "\n",
    "    Parameteres:\n",
    "    p_initial (int): The initial RSS value for the distance estimation equation.\n",
    "    n_value (int): The n_value for the distance estimation formula.\n",
    "    mean_values (list): A list which values are mean values over the given amount of bursts.\n",
    "\n",
    "    Returns:\n",
    "    estimated_distances (list): Returns a list which values are the distance estimations.\n",
    "    \"\"\"\n",
    "    \n",
    "    estimated_distances = []\n",
    "\n",
    "    index = 0\n",
    "    for mean in mean_values:\n",
    "        num = mean - p_initial\n",
    "        den = 10 * n_value\n",
    "        estimated_distances.append(10**(num/den))\n",
    "        index = index + 1\n",
    "\n",
    "    return estimated_distances"
   ]
  },
  {
   "cell_type": "markdown",
   "metadata": {},
   "source": [
    "Let's estimate the distances of the anchors in Scenario A RPI BLT_dataset"
   ]
  },
  {
   "cell_type": "code",
   "execution_count": null,
   "metadata": {},
   "outputs": [
    {
     "ename": "",
     "evalue": "",
     "output_type": "error",
     "traceback": [
      "\u001b[1;31mRunning cells with '/usr/bin/python3' requires the ipykernel package.\n",
      "\u001b[1;31mRun the following command to install 'ipykernel' into the Python environment. \n",
      "\u001b[1;31mCommand: '/usr/bin/python3 -m pip install ipykernel -U --user --force-reinstall'"
     ]
    }
   ],
   "source": [
    "directory_path = \"HybridDataset_for_RSSbasedLocalization-main/Scenario A/RPI/RSS_BLT_Dataset/\"\n",
    "anchors = [\"Anchor 1\", \"Anchor 2\", \"Anchor 3\", \"Anchor 4\", \"Anchor 5\", \"Anchor 6\"]\n",
    "\n",
    "mean_values = {}\n",
    "estimated_distances = {}\n",
    "configurations = {}\n",
    "\n",
    "p_initial = -40\n",
    "n_value = 4\n",
    "\n",
    "dataframes = read_data(anchors, directory_path)\n",
    "length = calculate_smallest_dataset(dataframes)\n",
    "\n",
    "for anchor in dataframes:\n",
    "    \n",
    "    mean_values[anchor] = calculate_mean_values(dataframes[anchor], length)\n",
    "    estimated_distances[anchor] = calculate_estimates(p_initial, n_value, mean_values[anchor])\n",
    "    \n",
    "    # print(\"--- \", anchor, \" ---\")\n",
    "    # print(\"\")\n",
    "    # print(\"Mean values: \", mean_values[anchor])\n",
    "    # print(\"\")\n",
    "    # print(\"Estimated distances:\", estimated_distances[anchor])\n",
    "    # print(\"\")\n",
    "    # print(\"-----\")\n",
    "    # print(\"\")\n",
    "\n",
    "for index in range(len(mean_values[\"Anchor 1\"])):\n",
    "    i = index + 1\n",
    "    configurations[i] = {}\n",
    "    configurations[i][\"Mean Power\"] = []\n",
    "    configurations[i][\"Estimated Distance\"] = []\n",
    "    for anchor in dataframes:\n",
    "        configurations[i][\"Mean Power\"].append(mean_values[anchor][index])\n",
    "        configurations[i][\"Estimated Distance\"].append(estimated_distances[anchor][index])\n",
    "        configurations[i][\"Target Position\"] = dataframes[anchor][\"Distance Target - Anchor [m]\"][0]"
   ]
  },
  {
   "cell_type": "code",
   "execution_count": null,
   "metadata": {},
   "outputs": [
    {
     "ename": "",
     "evalue": "",
     "output_type": "error",
     "traceback": [
      "\u001b[1;31mRunning cells with '/usr/bin/python3' requires the ipykernel package.\n",
      "\u001b[1;31mRun the following command to install 'ipykernel' into the Python environment. \n",
      "\u001b[1;31mCommand: '/usr/bin/python3 -m pip install ipykernel -U --user --force-reinstall'"
     ]
    }
   ],
   "source": [
    "pprint.pprint(configurations)"
   ]
  },
  {
   "cell_type": "code",
   "execution_count": null,
   "metadata": {},
   "outputs": [
    {
     "ename": "",
     "evalue": "",
     "output_type": "error",
     "traceback": [
      "\u001b[1;31mRunning cells with '/usr/bin/python3' requires the ipykernel package.\n",
      "\u001b[1;31mRun the following command to install 'ipykernel' into the Python environment. \n",
      "\u001b[1;31mCommand: '/usr/bin/python3 -m pip install ipykernel -U --user --force-reinstall'"
     ]
    }
   ],
   "source": []
  }
 ],
 "metadata": {
  "kernelspec": {
   "display_name": "Python 3 (ipykernel)",
   "language": "python",
   "name": "python3"
  },
  "language_info": {
   "codemirror_mode": {
    "name": "ipython",
    "version": 3
   },
   "file_extension": ".py",
   "mimetype": "text/x-python",
   "name": "python",
   "nbconvert_exporter": "python",
   "pygments_lexer": "ipython3",
   "version": "3.10.12"
  },
  "vscode": {
   "interpreter": {
    "hash": "9de1696fcdaf364179ab690f77d22ede36360c9c19fea9a1e8c11e7d63264b22"
   }
  }
 },
 "nbformat": 4,
 "nbformat_minor": 4
}
