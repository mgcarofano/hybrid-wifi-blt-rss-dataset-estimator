{
 "cells": [
  {
   "cell_type": "markdown",
   "metadata": {},
   "source": [
    "# A Hybrid WiFi/Bluetooth RSS Dataset with LS-based localization algorithm"
   ]
  },
  {
   "cell_type": "code",
   "execution_count": 164,
   "metadata": {},
   "outputs": [],
   "source": [
    "# Imports\n",
    "import pandas as pd\n",
    "import numpy as np\n",
    "import pprint\n",
    "import math"
   ]
  },
  {
   "cell_type": "code",
   "execution_count": 165,
   "metadata": {},
   "outputs": [
    {
     "ename": "",
     "evalue": "",
     "output_type": "error",
     "traceback": [
      "\u001b[1;31mRunning cells with '/usr/bin/python3' requires the ipykernel package.\n",
      "\u001b[1;31mRun the following command to install 'ipykernel' into the Python environment. \n",
      "\u001b[1;31mCommand: '/usr/bin/python3 -m pip install ipykernel -U --user --force-reinstall'"
     ]
    }
   ],
   "source": [
    "def read_data(anchors, directory_path):\n",
    "    \"\"\"\n",
    "    Reads the csv-files for one specified measurement case and adds them into a dict of dataframes.\n",
    "    \n",
    "    Parameters:\n",
    "    anchors (list): List of anchors, for example [\"Anchor 1\", \"Anchor 2\", \"Anchor 3\"...]\n",
    "    directory path (string): The relative directory path of the folder which contains the wanted anchor-csv.files.\n",
    "\n",
    "    returns: \n",
    "    scenario_dataframes (dict): a dict which keys are the anchor names and values are the respective dataframes.\n",
    "    \"\"\"\n",
    "    scenario_dataframes = {}\n",
    "\n",
    "    for anchor in anchors:\n",
    "        current_df = pd.read_csv(directory_path + anchor + \".csv\", sep=';')\n",
    "        scenario_dataframes[anchor.replace(\".csv\",\"\")] = current_df\n",
    "    \n",
    "    return scenario_dataframes\n"
   ]
  },
  {
   "cell_type": "code",
   "execution_count": 166,
   "metadata": {},
   "outputs": [
    {
     "ename": "",
     "evalue": "",
     "output_type": "error",
     "traceback": [
      "\u001b[1;31mRunning cells with '/usr/bin/python3' requires the ipykernel package.\n",
      "\u001b[1;31mRun the following command to install 'ipykernel' into the Python environment. \n",
      "\u001b[1;31mCommand: '/usr/bin/python3 -m pip install ipykernel -U --user --force-reinstall'"
     ]
    }
   ],
   "source": [
    "def calculate_smallest_dataset(dataframes):\n",
    "    \"\"\"\n",
    "    Calculates the minimum over all dataframes' length.\n",
    "\n",
    "    Parameters:\n",
    "    dataframes (dict): a dict which keys are the anchor names and values are the respective dataframes.\n",
    "\n",
    "    Returns:\n",
    "    minimum_length (int): an integer which value represents the minimum over all dataframes' length.\n",
    "    \"\"\"\n",
    "\n",
    "    sizes = []\n",
    "\n",
    "    for anchor in dataframes:\n",
    "        df = dataframes[anchor]\n",
    "        sizes.append(len(df))\n",
    "\n",
    "    return min(sizes)\n",
    "        "
   ]
  },
  {
   "cell_type": "code",
   "execution_count": 167,
   "metadata": {
    "jupyter": {
     "source_hidden": true
    }
   },
   "outputs": [],
   "source": [
    "def calculate_target_anchors_distance(dataframes):\n",
    "    \"\"\"\n",
    "    Calculates the distance between the target and the anchors using the Euclidean norm.\n",
    "    This is the implementation of (1) on the reference paper.\n",
    "\n",
    "    Parameters:\n",
    "    dataframes (dict): a dict which keys are the anchor names and values are the respective dataframes.\n",
    "\n",
    "    Returns:\n",
    "    target_anchors_distance (list): Returns a list of distances between the target and the anchor.\n",
    "    \"\"\"\n",
    "\n",
    "    target_anchors_distance = []\n",
    "\n",
    "    for anchor in dataframes:\n",
    "        df = dataframes[anchor]\n",
    "        anchor_coords = [eval(i) for i in df[\"Relative Coordinates [m]\"][0].split(\", \")]\n",
    "        target_coords = [eval(i) for i in df[\"Target Coordinates [m]\"][0].split(\", \")]\n",
    "        target_anchors_distance.append(math.dist(anchor_coords, target_coords))\n",
    "\n",
    "    # print(target_anchors_distance)\n",
    "    return target_anchors_distance\n",
    "\n",
    "# LINKS\n",
    "# https://www.w3schools.com/python/ref_math_dist.asp\n",
    "# https://www.w3schools.com/python/ref_string_split.asp\n",
    "# https://www.geeksforgeeks.org/python-converting-all-strings-in-list-to-integers/\n"
   ]
  },
  {
   "cell_type": "code",
   "execution_count": 168,
   "metadata": {},
   "outputs": [
    {
     "ename": "",
     "evalue": "",
     "output_type": "error",
     "traceback": [
      "\u001b[1;31mRunning cells with '/usr/bin/python3' requires the ipykernel package.\n",
      "\u001b[1;31mRun the following command to install 'ipykernel' into the Python environment. \n",
      "\u001b[1;31mCommand: '/usr/bin/python3 -m pip install ipykernel -U --user --force-reinstall'"
     ]
    }
   ],
   "source": [
    "def calculate_mean_values(scenario_dataframe, length): \n",
    "    \"\"\"\n",
    "    Calculates the mean value over a given amount of bursts.\n",
    "    This is the implementation of (3) on the reference paper.\n",
    "\n",
    "    Parameters:\n",
    "    scenario_dataframe (DataFrame): A DataFrame-object containing the dataset of one anchor.\n",
    "    length (int): an integer which value represents the number of data to read in the dataset.\n",
    "\n",
    "    Returns:\n",
    "    mean_values (list): Returns a list of mean values over the given amount of bursts.\n",
    "    \"\"\"\n",
    "    \n",
    "    mean_values = []\n",
    "\n",
    "    power_values = scenario_dataframe[\"Rx Power [dBm]\"].to_list()\n",
    "    bursts = length // 10\n",
    "    burst_size = length // bursts\n",
    "\n",
    "    # print(\"length: \", length, \", bursts: \", bursts, \", burst_size: \", burst_size)\n",
    "\n",
    "    start = 0\n",
    "    for i in range(bursts):\n",
    "        # end = start + burst_size if i < bursts - 1 else length - 1\n",
    "        end = start + burst_size\n",
    "        # print(\"start: \", start, \", end: \", end)\n",
    "        # print(\"power_values: \", power_values[start:end])\n",
    "        mean_values.append(round(np.mean(power_values[start:end]), 4))\n",
    "        start = end\n",
    "\n",
    "    if (start < length):\n",
    "        end = length\n",
    "        # print(\"start: \", start, \", end: \", end)\n",
    "        mean_values.append(round(np.mean(power_values[start:end]), 4))\n",
    "        start = end\n",
    "    \n",
    "    return mean_values"
   ]
  },
  {
   "cell_type": "code",
   "execution_count": 169,
   "metadata": {},
   "outputs": [
    {
     "ename": "",
     "evalue": "",
     "output_type": "error",
     "traceback": [
      "\u001b[1;31mRunning cells with '/usr/bin/python3' requires the ipykernel package.\n",
      "\u001b[1;31mRun the following command to install 'ipykernel' into the Python environment. \n",
      "\u001b[1;31mCommand: '/usr/bin/python3 -m pip install ipykernel -U --user --force-reinstall'"
     ]
    }
   ],
   "source": [
    "def calculate_target_anchors_estimation(p_initial, n_value, mean_values):\n",
    "    \"\"\"\n",
    "    Calculates the distance estimates between each anchor and the target.\n",
    "    This is the implementation of (4) on the reference paper.\n",
    "\n",
    "    Parameteres:\n",
    "    p_initial (int): The initial RSS value for the distance estimation equation.\n",
    "    n_value (int): The n_value for the distance estimation formula.\n",
    "    mean_values (list): A list which values are mean values over the given amount of bursts.\n",
    "\n",
    "    Returns:\n",
    "    estimated_distances (list): Returns a list which values are the distance estimations.\n",
    "    \"\"\"\n",
    "    \n",
    "    estimated_distances = []\n",
    "    index = 0\n",
    "    \n",
    "    for mean in mean_values:\n",
    "        num = mean - p_initial\n",
    "        den = 10 * n_value\n",
    "        estimated_distances.append(10**(num/den))\n",
    "        index = index + 1\n",
    "\n",
    "    return estimated_distances\n"
   ]
  },
  {
   "cell_type": "code",
   "execution_count": 170,
   "metadata": {},
   "outputs": [
    {
     "ename": "",
     "evalue": "",
     "output_type": "error",
     "traceback": [
      "\u001b[1;31mRunning cells with '/usr/bin/python3' requires the ipykernel package.\n",
      "\u001b[1;31mRun the following command to install 'ipykernel' into the Python environment. \n",
      "\u001b[1;31mCommand: '/usr/bin/python3 -m pip install ipykernel -U --user --force-reinstall'"
     ]
    }
   ],
   "source": [
    "def calculate_A_matrix():\n",
    "    pass"
   ]
  },
  {
   "cell_type": "code",
   "execution_count": 171,
   "metadata": {},
   "outputs": [],
   "source": [
    "def calculate_b_vector():\n",
    "    pass"
   ]
  },
  {
   "cell_type": "code",
   "execution_count": 172,
   "metadata": {},
   "outputs": [],
   "source": [
    "def calculate_W_matrix():\n",
    "    pass"
   ]
  },
  {
   "cell_type": "code",
   "execution_count": 173,
   "metadata": {},
   "outputs": [],
   "source": [
    "def calculate_WLS_output():\n",
    "    pass"
   ]
  },
  {
   "cell_type": "code",
   "execution_count": 174,
   "metadata": {},
   "outputs": [],
   "source": [
    "def calculate_target_position_estimation():\n",
    "    pass"
   ]
  },
  {
   "cell_type": "code",
   "execution_count": 191,
   "metadata": {},
   "outputs": [
    {
     "name": "stdout",
     "output_type": "stream",
     "text": [
      "{1: {'Actual Distance': [15.994, 15.994, 10.55, 15, 12.944, 12.944],\n",
      "     'Estimated Distance': [0.16, 0.118, 0.202, 0.132, 0.146, 0.325],\n",
      "     'Mean Power': [-71.8, -77.1, -67.8, -75.2, -73.4, -59.5]},\n",
      " 2: {'Actual Distance': [15.994, 15.994, 10.55, 15, 12.944, 12.944],\n",
      "     'Estimated Distance': [0.149, 0.134, 0.209, 0.127, 0.147, 0.318],\n",
      "     'Mean Power': [-73.1, -74.9, -67.2, -75.9, -73.3, -59.9]},\n",
      " 3: {'Actual Distance': [15.994, 15.994, 10.55, 15, 12.944, 12.944],\n",
      "     'Estimated Distance': [0.154, 0.138, 0.194, 0.184, 0.152, 0.318],\n",
      "     'Mean Power': [-72.5, -74.4, -68.5, -69.4, -72.7, -59.9]},\n",
      " 4: {'Actual Distance': [15.994, 15.994, 10.55, 15, 12.944, 12.944],\n",
      "     'Estimated Distance': [0.166, 0.127, 0.193, 0.14, 0.157, 0.29],\n",
      "     'Mean Power': [-71.2, -75.8, -68.6, -74.1, -72.2, -61.5]},\n",
      " 5: {'Actual Distance': [15.994, 15.994, 10.55, 15, 12.944, 12.944],\n",
      "     'Estimated Distance': [0.167, 0.131, 0.204, 0.154, 0.154, 0.309],\n",
      "     'Mean Power': [-71.1, -75.3, -67.6, -72.5, -72.5, -60.4]},\n",
      " 6: {'Actual Distance': [15.994, 15.994, 10.55, 15, 12.944, 12.944],\n",
      "     'Estimated Distance': [0.159, 0.151, 0.184, 0.15, 0.149, 0.316],\n",
      "     'Mean Power': [-71.9, -72.8, -69.4, -73.0, -73.1, -60.0]},\n",
      " 7: {'Actual Distance': [15.994, 15.994, 10.55, 15, 12.944, 12.944],\n",
      "     'Estimated Distance': [0.147, 0.144, 0.163, 0.168, 0.145, 0.318],\n",
      "     'Mean Power': [-73.3, -73.7, -71.5, -71.0, -73.6, -59.9]},\n",
      " 8: {'Actual Distance': [15.994, 15.994, 10.55, 15, 12.944, 12.944],\n",
      "     'Estimated Distance': [0.159, 0.126, 0.213, 0.167, 0.153, 0.32],\n",
      "     'Mean Power': [-71.9, -76.0, -66.9, -71.1, -72.6, -59.8]},\n",
      " 9: {'Actual Distance': [15.994, 15.994, 10.55, 15, 12.944, 12.944],\n",
      "     'Estimated Distance': [0.175, 0.123, 0.188, 0.157, 0.156, 0.327],\n",
      "     'Mean Power': [-70.3, -76.4, -69.0, -72.2, -72.3, -59.4]},\n",
      " 10: {'Actual Distance': [15.994, 15.994, 10.55, 15, 12.944, 12.944],\n",
      "      'Estimated Distance': [0.165, 0.13, 0.167, 0.174, 0.138, 0.314],\n",
      "      'Mean Power': [-71.3, -75.4, -71.1, -70.4, -74.4, -60.1]},\n",
      " 11: {'Actual Distance': [15.994, 15.994, 10.55, 15, 12.944, 12.944],\n",
      "      'Estimated Distance': [0.168, 0.136, 0.187, 0.165, 0.148, 0.327],\n",
      "      'Mean Power': [-71.0, -74.7, -69.1, -71.3, -73.2, -59.4]},\n",
      " 12: {'Actual Distance': [15.994, 15.994, 10.55, 15, 12.944, 12.944],\n",
      "      'Estimated Distance': [0.179, 0.128, 0.192, 0.166, 0.158, 0.324],\n",
      "      'Mean Power': [-69.9, -75.7, -68.7, -71.2, -72.0, -59.6]},\n",
      " 13: {'Actual Distance': [15.994, 15.994, 10.55, 15, 12.944, 12.944],\n",
      "      'Estimated Distance': [0.166, 0.135, 0.174, 0.167, 0.152, 0.32],\n",
      "      'Mean Power': [-71.2, -74.8, -70.4, -71.1, -72.7, -59.8]},\n",
      " 14: {'Actual Distance': [15.994, 15.994, 10.55, 15, 12.944, 12.944],\n",
      "      'Estimated Distance': [0.167, 0.136, 0.2, 0.174, 0.158, 0.305],\n",
      "      'Mean Power': [-71.1, -74.6, -68.0, -70.4, -72.1, -60.6]},\n",
      " 15: {'Actual Distance': [15.994, 15.994, 10.55, 15, 12.944, 12.944],\n",
      "      'Estimated Distance': [0.15, 0.133, 0.191, 0.179, 0.15, 0.318],\n",
      "      'Mean Power': [-72.9, -75.0, -68.8, -69.9, -73.0, -59.9]},\n",
      " 16: {'Actual Distance': [15.994, 15.994, 10.55, 15, 12.944, 12.944],\n",
      "      'Estimated Distance': [0.154, 0.137, 0.189, 0.173, 0.153, 0.307],\n",
      "      'Mean Power': [-72.5, -74.5, -68.9, -70.5, -72.6, -60.5]},\n",
      " 17: {'Actual Distance': [15.994, 15.994, 10.55, 15, 12.944, 12.944],\n",
      "      'Estimated Distance': [0.164, 0.133, 0.215, 0.175, 0.161, 0.307],\n",
      "      'Mean Power': [-71.4, -75.0, -66.7, -70.3, -71.7, -60.5]},\n",
      " 18: {'Actual Distance': [15.994, 15.994, 10.55, 15, 12.944, 12.944],\n",
      "      'Estimated Distance': [0.164, 0.133, 0.193, 0.169, 0.152, 0.324],\n",
      "      'Mean Power': [-71.4, -75.1, -68.6, -70.9, -72.7, -59.6]},\n",
      " 19: {'Actual Distance': [15.994, 15.994, 10.55, 15, 12.944, 12.944],\n",
      "      'Estimated Distance': [0.166, 0.133, 0.188, 0.159, 0.151, 0.339],\n",
      "      'Mean Power': [-71.2, -75.1, -69.0, -71.9, -72.8, -58.8]},\n",
      " 20: {'Actual Distance': [15.994, 15.994, 10.55, 15, 12.944, 12.944],\n",
      "      'Estimated Distance': [0.161, 0.13, 0.177, 0.17, 0.157, 0.325],\n",
      "      'Mean Power': [-71.7, -75.4, -70.1, -70.8, -72.2, -59.5]},\n",
      " 21: {'Actual Distance': [15.994, 15.994, 10.55, 15, 12.944, 12.944],\n",
      "      'Estimated Distance': [0.171, 0.134, 0.166, 0.155, 0.14, 0.32],\n",
      "      'Mean Power': [-70.7, -74.9, -71.2, -72.4, -74.2, -59.8]},\n",
      " 22: {'Actual Distance': [15.994, 15.994, 10.55, 15, 12.944, 12.944],\n",
      "      'Estimated Distance': [0.162, 0.133, 0.177, 0.167, 0.15, 0.333],\n",
      "      'Mean Power': [-71.6, -75.1, -70.1, -71.1, -73.0, -59.1]},\n",
      " 23: {'Actual Distance': [15.994, 15.994, 10.55, 15, 12.944, 12.944],\n",
      "      'Estimated Distance': [0.168, 0.126, 0.197, 0.157, 0.147, 0.316],\n",
      "      'Mean Power': [-71.0, -76.0, -68.2, -72.2, -73.3, -60.0]},\n",
      " 24: {'Actual Distance': [15.994, 15.994, 10.55, 15, 12.944, 12.944],\n",
      "      'Estimated Distance': [0.162, 0.12, 0.157, 0.161, 0.154, 0.337],\n",
      "      'Mean Power': [-71.6, -76.8, -72.2, -71.7, -72.5, -58.9]},\n",
      " 25: {'Actual Distance': [15.994, 15.994, 10.55, 15, 12.944, 12.944],\n",
      "      'Estimated Distance': [0.166, 0.129, 0.192, 0.165, 0.146, 0.318],\n",
      "      'Mean Power': [-71.2, -75.6, -68.7, -71.3, -73.4, -59.9]},\n",
      " 26: {'Actual Distance': [15.994, 15.994, 10.55, 15, 12.944, 12.944],\n",
      "      'Estimated Distance': [0.155, 0.119, 0.213, 0.17, 0.14, 0.324],\n",
      "      'Mean Power': [-72.4, -77.0, -66.9, -70.8, -74.2, -59.6]},\n",
      " 27: {'Actual Distance': [15.994, 15.994, 10.55, 15, 12.944, 12.944],\n",
      "      'Estimated Distance': [0.166, 0.119, 0.171, 0.184, 0.142, 0.327],\n",
      "      'Mean Power': [-71.2, -77.0, -70.7, -69.4, -73.9, -59.4]},\n",
      " 28: {'Actual Distance': [15.994, 15.994, 10.55, 15, 12.944, 12.944],\n",
      "      'Estimated Distance': [0.161, 0.133, 0.166, 0.173, 0.147, 0.314],\n",
      "      'Mean Power': [-71.7, -75.1, -71.2, -70.5, -73.3, -60.1]},\n",
      " 29: {'Actual Distance': [15.994, 15.994, 10.55, 15, 12.944, 12.944],\n",
      "      'Estimated Distance': [0.167, 0.124, 0.198, 0.179, 0.147, 0.313],\n",
      "      'Mean Power': [-71.1, -76.3, -68.1, -69.9, -73.3, -60.2]},\n",
      " 30: {'Actual Distance': [15.994, 15.994, 10.55, 15, 12.944, 12.944],\n",
      "      'Estimated Distance': [0.164, 0.128, 0.184, 0.162, 0.166, 0.302],\n",
      "      'Mean Power': [-71.4, -75.7, -69.4, -71.6, -71.2, -60.8]},\n",
      " 31: {'Actual Distance': [15.994, 15.994, 10.55, 15, 12.944, 12.944],\n",
      "      'Estimated Distance': [0.159, 0.11, 0.157, 0.189, 0.148, 0.297],\n",
      "      'Mean Power': [-71.9, -78.4, -72.2, -68.9, -73.2, -61.1]},\n",
      " 32: {'Actual Distance': [15.994, 15.994, 10.55, 15, 12.944, 12.944],\n",
      "      'Estimated Distance': [0.168, 0.117, 0.174, 0.184, 0.152, 0.311],\n",
      "      'Mean Power': [-71.0, -77.3, -70.4, -69.4, -72.7, -60.3]},\n",
      " 33: {'Actual Distance': [15.994, 15.994, 10.55, 15, 12.944, 12.944],\n",
      "      'Estimated Distance': [0.173, 0.121, 0.184, 0.18, 0.147, 0.302],\n",
      "      'Mean Power': [-70.5, -76.7, -69.4, -69.8, -73.3, -60.8]},\n",
      " 34: {'Actual Distance': [15.994, 15.994, 10.55, 15, 12.944, 12.944],\n",
      "      'Estimated Distance': [0.17, 0.122, 0.216, 0.182, 0.152, 0.327],\n",
      "      'Mean Power': [-70.8, -76.6, -66.6, -69.6, -72.7, -59.4]},\n",
      " 35: {'Actual Distance': [15.994, 15.994, 10.55, 15, 12.944, 12.944],\n",
      "      'Estimated Distance': [0.162, 0.127, 0.187, 0.169, 0.145, 0.313],\n",
      "      'Mean Power': [-71.6, -75.8, -69.1, -70.9, -73.6, -60.2]},\n",
      " 36: {'Actual Distance': [15.994, 15.994, 10.55, 15, 12.944, 12.944],\n",
      "      'Estimated Distance': [0.182, 0.134, 0.184, 0.167, 0.143, 0.305],\n",
      "      'Mean Power': [-69.6, -74.9, -69.4, -71.1, -73.8, -60.6]},\n",
      " 37: {'Actual Distance': [15.994, 15.994, 10.55, 15, 12.944, 12.944],\n",
      "      'Estimated Distance': [0.171, 0.136, 0.158, 0.179, 0.155, 0.311],\n",
      "      'Mean Power': [-70.7, -74.7, -72.0, -69.9, -72.4, -60.3]},\n",
      " 38: {'Actual Distance': [15.994, 15.994, 10.55, 15, 12.944, 12.944],\n",
      "      'Estimated Distance': [0.169, 0.135, 0.176, 0.175, 0.152, 0.325],\n",
      "      'Mean Power': [-70.9, -74.8, -70.2, -70.3, -72.7, -59.5]},\n",
      " 39: {'Actual Distance': [15.994, 15.994, 10.55, 15, 12.944, 12.944],\n",
      "      'Estimated Distance': [0.157, 0.127, 0.17, 0.17, 0.148, 0.324],\n",
      "      'Mean Power': [-72.2, -75.8, -70.8, -70.8, -73.2, -59.6]},\n",
      " 40: {'Actual Distance': [15.994, 15.994, 10.55, 15, 12.944, 12.944],\n",
      "      'Estimated Distance': [0.174, 0.138, 0.18, 0.173, 0.134, 0.329],\n",
      "      'Mean Power': [-70.4, -74.4, -69.8, -70.5, -74.9, -59.3]},\n",
      " 41: {'Actual Distance': [15.994, 15.994, 10.55, 15, 12.944, 12.944],\n",
      "      'Estimated Distance': [0.167, 0.127, 0.18, 0.178, 0.143, 0.333],\n",
      "      'Mean Power': [-71.1, -75.8, -69.8, -70.0, -73.8, -59.1]},\n",
      " 42: {'Actual Distance': [15.994, 15.994, 10.55, 15, 12.944, 12.944],\n",
      "      'Estimated Distance': [0.166, 0.142, 0.159, 0.183, 0.144, 0.309],\n",
      "      'Mean Power': [-71.2, -73.9, -71.9, -69.5, -73.7, -60.4]},\n",
      " 43: {'Actual Distance': [15.994, 15.994, 10.55, 15, 12.944, 12.944],\n",
      "      'Estimated Distance': [0.168, 0.124, 0.167, 0.165, 0.146, 0.311],\n",
      "      'Mean Power': [-71.0, -76.3, -71.1, -71.3, -73.4, -60.3]},\n",
      " 44: {'Actual Distance': [15.994, 15.994, 10.55, 15, 12.944, 12.944],\n",
      "      'Estimated Distance': [0.177, 0.117, 0.194, 0.179, 0.152, 0.3],\n",
      "      'Mean Power': [-70.1, -77.3, -68.5, -69.9, -72.7, -60.9]},\n",
      " 45: {'Actual Distance': [15.994, 15.994, 10.55, 15, 12.944, 12.944],\n",
      "      'Estimated Distance': [0.178, 0.125, 0.189, 0.187, 0.15, 0.331],\n",
      "      'Mean Power': [-70.0, -76.1, -68.9, -69.1, -72.9, -59.2]},\n",
      " 46: {'Actual Distance': [15.994, 15.994, 10.55, 15, 12.944, 12.944],\n",
      "      'Estimated Distance': [0.178, 0.132, 0.195, 0.192, 0.149, 0.318],\n",
      "      'Mean Power': [-70.0, -75.2, -68.4, -68.7, -73.1, -59.9]},\n",
      " 47: {'Actual Distance': [15.994, 15.994, 10.55, 15, 12.944, 12.944],\n",
      "      'Estimated Distance': [0.171, 0.133, 0.174, 0.154, 0.149, 0.307],\n",
      "      'Mean Power': [-70.7, -75.0, -70.4, -72.5, -73.1, -60.5]},\n",
      " 48: {'Actual Distance': [15.994, 15.994, 10.55, 15, 12.944, 12.944],\n",
      "      'Estimated Distance': [0.173, 0.104, 0.176, 0.16, 0.152, 0.318],\n",
      "      'Mean Power': [-70.5, -79.3, -70.2, -71.8, -72.7, -59.9]},\n",
      " 49: {'Actual Distance': [15.994, 15.994, 10.55, 15, 12.944, 12.944],\n",
      "      'Estimated Distance': [0.162, 0.104, 0.183, 0.203, 0.153, 0.325],\n",
      "      'Mean Power': [-71.6, -79.3, -69.5, -67.7, -72.6, -59.5]},\n",
      " 50: {'Actual Distance': [15.994, 15.994, 10.55, 15, 12.944, 12.944],\n",
      "      'Estimated Distance': [0.166, 0.104, 0.178, 0.178, 0.149, 0.331],\n",
      "      'Mean Power': [-71.2, -79.4, -70.0, -70.0, -73.1, -59.2]},\n",
      " 51: {'Actual Distance': [15.994, 15.994, 10.55, 15, 12.944, 12.944],\n",
      "      'Estimated Distance': [0.158, 0.13, 0.198, 0.169, 0.151, 0.325],\n",
      "      'Mean Power': [-72.0, -75.5, -68.1, -70.9, -72.8, -59.5]},\n",
      " 52: {'Actual Distance': [15.994, 15.994, 10.55, 15, 12.944, 12.944],\n",
      "      'Estimated Distance': [0.169, 0.093, 0.16, 0.176, 0.152, 0.327],\n",
      "      'Mean Power': [-70.9, -81.2, -71.8, -70.2, -72.7, -59.4]},\n",
      " 53: {'Actual Distance': [15.994, 15.994, 10.55, 15, 12.944, 12.944],\n",
      "      'Estimated Distance': [0.163, 0.108, 0.174, 0.183, 0.155, 0.329],\n",
      "      'Mean Power': [-71.5, -78.6, -70.4, -69.5, -72.4, -59.3]},\n",
      " 54: {'Actual Distance': [15.994, 15.994, 10.55, 15, 12.944, 12.944],\n",
      "      'Estimated Distance': [0.162, 0.127, 0.172, 0.177, 0.161, 0.329],\n",
      "      'Mean Power': [-71.6, -75.9, -70.6, -70.1, -71.7, -59.3]},\n",
      " 55: {'Actual Distance': [15.994, 15.994, 10.55, 15, 12.944, 12.944],\n",
      "      'Estimated Distance': [0.163, 0.124, 0.184, 0.178, 0.158, 0.318],\n",
      "      'Mean Power': [-71.5556, -76.2222, -69.4444, -70.0, -72.0, -59.8889]}}\n"
     ]
    }
   ],
   "source": [
    "directory_path = \"HybridDataset_for_RSSbasedLocalization-main/Scenario A/RPI/RSS_BLT_Dataset/\"\n",
    "anchors = [\"Anchor 1\", \"Anchor 2\", \"Anchor 3\", \"Anchor 4\", \"Anchor 5\", \"Anchor 6\"]\n",
    "\n",
    "mean_values = {}\n",
    "estimated_distances = {}\n",
    "configurations = {}\n",
    "\n",
    "p_initial = -40\n",
    "n_value = 4\n",
    "\n",
    "dataframes = read_data(anchors, directory_path)\n",
    "length = calculate_smallest_dataset(dataframes)\n",
    "\n",
    "for anchor in dataframes:\n",
    "    \n",
    "    mean_values[anchor] = calculate_mean_values(dataframes[anchor], length)\n",
    "    estimated_distances[anchor] = calculate_target_anchors_estimation(p_initial, n_value, mean_values[anchor])\n",
    "    \n",
    "    # print(\"--- \", anchor, \" ---\")\n",
    "    # print(\"\")\n",
    "    # print(\"Mean values: \", mean_values[anchor])\n",
    "    # print(\"\")\n",
    "    # print(\"Estimated distances:\", estimated_distances[anchor])\n",
    "    # print(\"\")\n",
    "    # print(\"-----\")\n",
    "    # print(\"\")\n",
    "\n",
    "for index in range(len(mean_values[\"Anchor 1\"])):\n",
    "    i = index + 1\n",
    "    configurations[i] = {}\n",
    "    configurations[i][\"Mean Power\"] = []\n",
    "    configurations[i][\"Estimated Distance\"] = []\n",
    "    configurations[i][\"Actual Distance\"] = []\n",
    "    for anchor in dataframes:\n",
    "        configurations[i][\"Mean Power\"].append(mean_values[anchor][index])\n",
    "        configurations[i][\"Estimated Distance\"].append(round(estimated_distances[anchor][index], 3))\n",
    "        configurations[i][\"Actual Distance\"].append(dataframes[anchor][\"Distance Target - Anchor [m]\"][0])\n",
    "\n",
    "pprint.pprint(configurations)"
   ]
  },
  {
   "cell_type": "code",
   "execution_count": null,
   "metadata": {},
   "outputs": [
    {
     "ename": "",
     "evalue": "",
     "output_type": "error",
     "traceback": [
      "\u001b[1;31mRunning cells with '/usr/bin/python3' requires the ipykernel package.\n",
      "\u001b[1;31mRun the following command to install 'ipykernel' into the Python environment. \n",
      "\u001b[1;31mCommand: '/usr/bin/python3 -m pip install ipykernel -U --user --force-reinstall'"
     ]
    }
   ],
   "source": []
  }
 ],
 "metadata": {
  "kernelspec": {
   "display_name": "Python 3 (ipykernel)",
   "language": "python",
   "name": "python3"
  },
  "language_info": {
   "codemirror_mode": {
    "name": "ipython",
    "version": 3
   },
   "file_extension": ".py",
   "mimetype": "text/x-python",
   "name": "python",
   "nbconvert_exporter": "python",
   "pygments_lexer": "ipython3",
   "version": "3.10.12"
  },
  "vscode": {
   "interpreter": {
    "hash": "9de1696fcdaf364179ab690f77d22ede36360c9c19fea9a1e8c11e7d63264b22"
   }
  }
 },
 "nbformat": 4,
 "nbformat_minor": 4
}
