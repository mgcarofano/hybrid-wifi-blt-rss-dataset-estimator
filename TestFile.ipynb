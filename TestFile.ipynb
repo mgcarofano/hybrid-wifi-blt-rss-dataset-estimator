{
 "cells": [
  {
   "cell_type": "markdown",
   "metadata": {},
   "source": [
    "# Data Analytics Project Work\n",
    "### File for testing different stuff for the project :D"
   ]
  },
  {
   "cell_type": "code",
   "execution_count": 68,
   "metadata": {},
   "outputs": [
    {
     "data": {
      "text/html": [
       "<div>\n",
       "<style scoped>\n",
       "    .dataframe tbody tr th:only-of-type {\n",
       "        vertical-align: middle;\n",
       "    }\n",
       "\n",
       "    .dataframe tbody tr th {\n",
       "        vertical-align: top;\n",
       "    }\n",
       "\n",
       "    .dataframe thead th {\n",
       "        text-align: right;\n",
       "    }\n",
       "</style>\n",
       "<table border=\"1\" class=\"dataframe\">\n",
       "  <thead>\n",
       "    <tr style=\"text-align: right;\">\n",
       "      <th></th>\n",
       "      <th>Timestamp</th>\n",
       "      <th>Rx Power [dBm]</th>\n",
       "    </tr>\n",
       "  </thead>\n",
       "  <tbody>\n",
       "    <tr>\n",
       "      <th>0</th>\n",
       "      <td>Fri Mar 24 14:13:33 2023</td>\n",
       "      <td>-79</td>\n",
       "    </tr>\n",
       "    <tr>\n",
       "      <th>1</th>\n",
       "      <td>Fri Mar 24 14:13:34 2023</td>\n",
       "      <td>-70</td>\n",
       "    </tr>\n",
       "    <tr>\n",
       "      <th>2</th>\n",
       "      <td>Fri Mar 24 14:13:36 2023</td>\n",
       "      <td>-73</td>\n",
       "    </tr>\n",
       "    <tr>\n",
       "      <th>3</th>\n",
       "      <td>Fri Mar 24 14:13:38 2023</td>\n",
       "      <td>-79</td>\n",
       "    </tr>\n",
       "    <tr>\n",
       "      <th>4</th>\n",
       "      <td>Fri Mar 24 14:13:39 2023</td>\n",
       "      <td>-76</td>\n",
       "    </tr>\n",
       "  </tbody>\n",
       "</table>\n",
       "</div>"
      ],
      "text/plain": [
       "                  Timestamp  Rx Power [dBm]\n",
       "0  Fri Mar 24 14:13:33 2023             -79\n",
       "1  Fri Mar 24 14:13:34 2023             -70\n",
       "2  Fri Mar 24 14:13:36 2023             -73\n",
       "3  Fri Mar 24 14:13:38 2023             -79\n",
       "4  Fri Mar 24 14:13:39 2023             -76"
      ]
     },
     "execution_count": 68,
     "metadata": {},
     "output_type": "execute_result"
    }
   ],
   "source": [
    "# imports\n",
    "import pandas as pd\n",
    "import numpy as np\n",
    "\n",
    "# Testing on reading one of the datasets and creating a Pandas DataFrame - object\n",
    "test_df = pd.read_csv(\"HybridDataset_for_RSSbasedLocalization-main/Scenario 0/RPI/RSS_BLT_Dataset/Distanza10.csv\", sep=';')\n",
    "test_df.head()"
   ]
  },
  {
   "cell_type": "code",
   "execution_count": 69,
   "metadata": {},
   "outputs": [
    {
     "name": "stdout",
     "output_type": "stream",
     "text": [
      "<class 'pandas.core.frame.DataFrame'>\n",
      "RangeIndex: 517 entries, 0 to 516\n",
      "Data columns (total 2 columns):\n",
      " #   Column          Non-Null Count  Dtype \n",
      "---  ------          --------------  ----- \n",
      " 0   Timestamp       517 non-null    object\n",
      " 1   Rx Power [dBm]  517 non-null    int64 \n",
      "dtypes: int64(1), object(1)\n",
      "memory usage: 8.2+ KB\n"
     ]
    }
   ],
   "source": [
    "test_df.info()"
   ]
  },
  {
   "cell_type": "markdown",
   "metadata": {},
   "source": [
    "Everything seemed to be working great as we got the first five entries of the dataset with a .head()– method and some information about the dataset with the .info()– method."
   ]
  },
  {
   "cell_type": "code",
   "execution_count": 70,
   "metadata": {},
   "outputs": [],
   "source": [
    "def read_data(anchors, directory_path):\n",
    "    \"\"\"\n",
    "    Reads the csv-files for one specified measurement case and adds them into a dict of dataframes.\n",
    "    \n",
    "    Parameters:\n",
    "    anchors (list): List of anchors, for example [\"Anchor 1\", \"Anchor 2\", \"Anchor 3\"...]\n",
    "    directory path (string): The relative directory path of the folder which contains the wanted anchor-csv.files.\n",
    "\n",
    "    returns: \n",
    "    dict: a dict which keys are the anchor names and values are the respective dataframes\n",
    "    \"\"\"\n",
    "    scenario_dataframes = {}\n",
    "\n",
    "    for anchor in anchors:\n",
    "        current_df = pd.read_csv(directory_path + anchor + \".csv\", sep=';')\n",
    "        scenario_dataframes[anchor.replace(\".csv\",\"\")] = current_df\n",
    "    \n",
    "    return scenario_dataframes\n"
   ]
  },
  {
   "cell_type": "code",
   "execution_count": 71,
   "metadata": {},
   "outputs": [],
   "source": [
    "def calculate_mean_values(scenario_dataframe, bursts):\n",
    "    \"\"\"\n",
    "    Calculates the mean value over a given amount of bursts.\n",
    "\n",
    "    Parameters:\n",
    "    scenario_dataframe (DataFrame): A DataFrame-object containing the dataset of one anchor.\n",
    "    bursts (int): The amount of bursts.\n",
    "\n",
    "    Returns:\n",
    "    int: Returns the mean value over the given amount of bursts.\n",
    "    \"\"\"\n",
    "\n",
    "    mean_values = []\n",
    "\n",
    "    power_values = scenario_dataframe[\"Rx Power [dBm]\"].to_list()\n",
    "    # list_size = len(power_values)\n",
    "    # burst_size = list_size // bursts\n",
    "\n",
    "    start = 0\n",
    "    for i in range(bursts):\n",
    "        # end = start + burst_size if i < bursts - 1 else list_size - 1\n",
    "        mean_values.append(power_values[i])\n",
    "        # start = end + 1\n",
    "        \n",
    "    mean_value = np.mean(mean_values)\n",
    "    \n",
    "    return mean_value"
   ]
  },
  {
   "cell_type": "code",
   "execution_count": 72,
   "metadata": {},
   "outputs": [],
   "source": [
    "def calculate_estimates(p_initial, n_value, mean_values):\n",
    "    \"\"\"\n",
    "    Calculates the distance estimates for each anchor.\n",
    "\n",
    "    Parameteres:\n",
    "    p_initial (int): The initial RSS value for the distance estimation equation.\n",
    "    n_value (int): The n_value for the distance estimation formula.\n",
    "    mean_values (dict): A dict which keys are the anchor names and values are their respective mean values over the given amount of bursts\n",
    "\n",
    "    Returns:\n",
    "    dict: Returns a dict which keys are the anchor names and values are their respective distance estimations.\n",
    "    \"\"\"\n",
    "    estimated_distances = {}\n",
    "\n",
    "    for anchor in mean_values:\n",
    "        estimated_d = 10**((p_initial-mean_values[anchor])/(10*n_value))\n",
    "        estimated_distances[anchor] = estimated_d\n",
    "\n",
    "    return estimated_distances"
   ]
  },
  {
   "cell_type": "code",
   "execution_count": 73,
   "metadata": {},
   "outputs": [],
   "source": [
    "def get_actual_distance(anchor_dataframe):\n",
    "    \"\"\"\n",
    "    Extracts the first element of the last column (\"Distance Target - Anchor [m]\") from the DataFrame.\n",
    "\n",
    "    Parameters:\n",
    "    anchor_dataframe (DataFrame): A DataFrame containing the dataset of one anchor.\n",
    "\n",
    "    Returns:\n",
    "    float: Returns the first element of the last column.\n",
    "    \"\"\"\n",
    "    distance = anchor_dataframe.at[0, \"Distance Target - Anchor [m]\"]\n",
    "    return float(distance)\n",
    "\n"
   ]
  },
  {
   "cell_type": "code",
   "execution_count": 74,
   "metadata": {},
   "outputs": [],
   "source": [
    "def extract_anchor_coordinates(dataframe):\n",
    "    # Assuming the coordinates are in the 'Relative Coordinates [m]' column\n",
    "    first_row = dataframe.iloc[0]\n",
    "    \n",
    "    # Extracting the 'Relative Coordinates [m]' from the first row\n",
    "    relative_coordinates_str = first_row['Relative Coordinates [m]']\n",
    "    \n",
    "    # Splitting the string by comma and space, then taking the first two elements\n",
    "    coordinates_split = pd.to_numeric(relative_coordinates_str.split(', '), errors='raise')\n",
    "\n",
    "    # coordinates_split is a numpy.ndarray type: n-dimensional array of items\n",
    "    print(\"extracted: \", int(coordinates_split))\n",
    "    return coordinates_split"
   ]
  },
  {
   "cell_type": "code",
   "execution_count": 75,
   "metadata": {},
   "outputs": [],
   "source": [
    "def calculate_wls_position(A, W, b):\n",
    "    # Solve the system of equations using the Weighted Least Squares method\n",
    "    A_wls = np.dot(np.dot(np.linalg.inv(np.dot(np.dot(A.T, W), A)), A.T), W)\n",
    "    estimated_position = np.dot(A_wls, b)\n",
    "\n",
    "    return estimated_position"
   ]
  },
  {
   "cell_type": "code",
   "execution_count": 76,
   "metadata": {},
   "outputs": [],
   "source": [
    "def calculate_wls_matrix(anchors, estimated_distances):\n",
    "    # Build matrix A and vector b for the WLS method\n",
    "    A = np.array([[-2 * anchor[0], -2 * anchor[1], 1] for anchor in anchors])\n",
    "    b = np.array([estimated_distances[i] for i in range(len(anchors))])\n",
    "\n",
    "    return A, b"
   ]
  },
  {
   "cell_type": "markdown",
   "metadata": {},
   "source": [
    "Let's estimate the distances of the anchors in Scenario A RPI BLT_dataset"
   ]
  },
  {
   "cell_type": "code",
   "execution_count": 77,
   "metadata": {},
   "outputs": [
    {
     "name": "stdout",
     "output_type": "stream",
     "text": [
      "Anchor 1 mean value over 10 bursts: -71.8\n",
      "Anchor 2 mean value over 10 bursts: -77.1\n",
      "Anchor 3 mean value over 10 bursts: -67.8\n",
      "Anchor 4 mean value over 10 bursts: -75.2\n",
      "Anchor 5 mean value over 10 bursts: -73.4\n",
      "Anchor 6 mean value over 10 bursts: -59.5\n",
      "\n",
      "Anchor 1 Estimated distance 6.237348354824191  vs Actual distance: 15.994\n",
      "Anchor 2 Estimated distance 8.46252568807269  vs Actual distance: 15.994\n",
      "Anchor 3 Estimated distance 4.954501908047901  vs Actual distance: 10.55\n",
      "Anchor 4 Estimated distance 7.58577575029184  vs Actual distance: 15.0\n",
      "Anchor 5 Estimated distance 6.839116472814296  vs Actual distance: 12.944\n",
      "Anchor 6 Estimated distance 3.0725573652674467  vs Actual distance: 12.944\n",
      "extracted:  [ 5.55 15.  ]\n",
      "extracted:  [ 5.55 15.  ]\n",
      "extracted:  [-10.55   0.  ]\n",
      "extracted:  [  0 -15]\n",
      "extracted:  [-10.55  -7.5 ]\n",
      "extracted:  [-10.55  -7.5 ]\n"
     ]
    }
   ],
   "source": [
    "\n",
    "anchors = [\"Anchor 1\", \"Anchor 2\", \"Anchor 3\", \"Anchor 4\", \"Anchor 5\", \"Anchor 6\"]\n",
    "directory_path = \"HybridDataset_for_RSSbasedLocalization-main/Scenario A/RPI/RSS_BLT_Dataset/\"\n",
    "\n",
    "# Bluetooth Scenario A, all anchors\n",
    "dataframes = read_data(anchors, directory_path)\n",
    "bursts = 10\n",
    "\n",
    "mean_values = {}\n",
    "actual_distances = {}\n",
    "for anchor in dataframes:\n",
    "    mean_values[anchor] = calculate_mean_values(dataframes[anchor], bursts)\n",
    "    actual_distances[anchor] = get_actual_distance(dataframes[anchor])\n",
    "    print(anchor, \"mean value over\", bursts, \"bursts:\", mean_values[anchor])\n",
    "\n",
    "p_initial = -40\n",
    "n_value = 4\n",
    "estimated_distances = calculate_estimates(p_initial, n_value, mean_values)\n",
    "\n",
    "print(\"\")\n",
    "for anchor in anchors:\n",
    "    print(anchor, \"Estimated distance\", estimated_distances[anchor], \" vs Actual distance:\", actual_distances[anchor])\n",
    "    \n",
    "# Position estimation\n",
    "# Extract coordinates of anchors from their respective CSV files\n",
    "anchor_coordinates = {}\n",
    "for anchor in anchors:\n",
    "    anchor_dataframe = dataframes[anchor]\n",
    "    anchor_coordinates[anchor] = extract_anchor_coordinates(anchor_dataframe)\n",
    "\n",
    "# Print the extracted coordinates\n",
    "# for anchor, coordinates in anchor_coordinates.items():\n",
    "#     print(f\"{anchor} Coordinates: {coordinates}\")\n",
    "\n",
    "# # Calculate WLS position estimates for each anchor\n",
    "# wls_positions = {}\n",
    "# for anchor in anchors:\n",
    "#     A, b = calculate_wls_matrix([anchor_coordinates[anchor].tolist()], estimated_distances[anchor])\n",
    "    \n",
    "#     # Assuming W is a diagonal matrix with variances (inverse of variances)\n",
    "#     W = np.identity(len(estimated_distances[anchor]))\n",
    "    \n",
    "#     estimated_position = calculate_wls_position(A, W, b)\n",
    "    \n",
    "#     wls_positions[anchor] = estimated_position\n",
    "\n",
    "# # Print the WLS position estimates\n",
    "# print(\"\\nWLS Position Estimates:\")\n",
    "# for anchor, position in wls_positions.items():\n",
    "#     print(f\"{anchor} Estimated Position: {position}\")\n",
    "\n",
    "    "
   ]
  }
 ],
 "metadata": {
  "kernelspec": {
   "display_name": "Python 3.9.13 ('base')",
   "language": "python",
   "name": "python3"
  },
  "language_info": {
   "codemirror_mode": {
    "name": "ipython",
    "version": 3
   },
   "file_extension": ".py",
   "mimetype": "text/x-python",
   "name": "python",
   "nbconvert_exporter": "python",
   "pygments_lexer": "ipython3",
   "version": "3.10.12"
  },
  "orig_nbformat": 4,
  "vscode": {
   "interpreter": {
    "hash": "9de1696fcdaf364179ab690f77d22ede36360c9c19fea9a1e8c11e7d63264b22"
   }
  }
 },
 "nbformat": 4,
 "nbformat_minor": 2
}
