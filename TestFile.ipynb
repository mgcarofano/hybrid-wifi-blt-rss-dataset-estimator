{
 "cells": [
  {
   "cell_type": "markdown",
   "metadata": {},
   "source": [
    "# Data Analytics Project Work\n",
    "### File for testing different stuff for the project :D"
   ]
  },
  {
   "cell_type": "code",
   "execution_count": 40,
   "metadata": {},
   "outputs": [
    {
     "data": {
      "text/html": [
       "<div>\n",
       "<style scoped>\n",
       "    .dataframe tbody tr th:only-of-type {\n",
       "        vertical-align: middle;\n",
       "    }\n",
       "\n",
       "    .dataframe tbody tr th {\n",
       "        vertical-align: top;\n",
       "    }\n",
       "\n",
       "    .dataframe thead th {\n",
       "        text-align: right;\n",
       "    }\n",
       "</style>\n",
       "<table border=\"1\" class=\"dataframe\">\n",
       "  <thead>\n",
       "    <tr style=\"text-align: right;\">\n",
       "      <th></th>\n",
       "      <th>Timestamp</th>\n",
       "      <th>Rx Power [dBm]</th>\n",
       "    </tr>\n",
       "  </thead>\n",
       "  <tbody>\n",
       "    <tr>\n",
       "      <th>0</th>\n",
       "      <td>Fri Mar 24 14:13:33 2023</td>\n",
       "      <td>-79</td>\n",
       "    </tr>\n",
       "    <tr>\n",
       "      <th>1</th>\n",
       "      <td>Fri Mar 24 14:13:34 2023</td>\n",
       "      <td>-70</td>\n",
       "    </tr>\n",
       "    <tr>\n",
       "      <th>2</th>\n",
       "      <td>Fri Mar 24 14:13:36 2023</td>\n",
       "      <td>-73</td>\n",
       "    </tr>\n",
       "    <tr>\n",
       "      <th>3</th>\n",
       "      <td>Fri Mar 24 14:13:38 2023</td>\n",
       "      <td>-79</td>\n",
       "    </tr>\n",
       "    <tr>\n",
       "      <th>4</th>\n",
       "      <td>Fri Mar 24 14:13:39 2023</td>\n",
       "      <td>-76</td>\n",
       "    </tr>\n",
       "  </tbody>\n",
       "</table>\n",
       "</div>"
      ],
      "text/plain": [
       "                  Timestamp  Rx Power [dBm]\n",
       "0  Fri Mar 24 14:13:33 2023             -79\n",
       "1  Fri Mar 24 14:13:34 2023             -70\n",
       "2  Fri Mar 24 14:13:36 2023             -73\n",
       "3  Fri Mar 24 14:13:38 2023             -79\n",
       "4  Fri Mar 24 14:13:39 2023             -76"
      ]
     },
     "execution_count": 40,
     "metadata": {},
     "output_type": "execute_result"
    }
   ],
   "source": [
    "# imports\n",
    "import pandas as pd\n",
    "import numpy as np\n",
    "\n",
    "# Testing on reading one of the datasets and creating a Pandas DataFrame - object\n",
    "test_df = pd.read_csv(\"HybridDataset_for_RSSbasedLocalization-main/Scenario 0/RPI/RSS_BLT_Dataset/Distanza10.csv\", sep=';')\n",
    "test_df.head()"
   ]
  },
  {
   "cell_type": "code",
   "execution_count": 41,
   "metadata": {},
   "outputs": [
    {
     "name": "stdout",
     "output_type": "stream",
     "text": [
      "<class 'pandas.core.frame.DataFrame'>\n",
      "RangeIndex: 517 entries, 0 to 516\n",
      "Data columns (total 2 columns):\n",
      " #   Column          Non-Null Count  Dtype \n",
      "---  ------          --------------  ----- \n",
      " 0   Timestamp       517 non-null    object\n",
      " 1   Rx Power [dBm]  517 non-null    int64 \n",
      "dtypes: int64(1), object(1)\n",
      "memory usage: 8.2+ KB\n"
     ]
    }
   ],
   "source": [
    "test_df.info()"
   ]
  },
  {
   "cell_type": "markdown",
   "metadata": {},
   "source": [
    "Everything seemed to be working great as we got the first five entries of the dataset with a .head()– method and some information about the dataset with the .info()– method."
   ]
  },
  {
   "cell_type": "code",
   "execution_count": 42,
   "metadata": {},
   "outputs": [
    {
     "name": "stdout",
     "output_type": "stream",
     "text": [
      "                    Timestamp  Rx Power [dBm] Relative Coordinates [m]  \\\n",
      "0    Wed Jan 25 15:20:33 2023             -77                 5.55, 15   \n",
      "1    Wed Jan 25 15:20:35 2023             -78                 5.55, 15   \n",
      "2    Wed Jan 25 15:20:36 2023             -68                 5.55, 15   \n",
      "3    Wed Jan 25 15:20:37 2023             -70                 5.55, 15   \n",
      "4    Wed Jan 25 15:20:38 2023             -77                 5.55, 15   \n",
      "..                        ...             ...                      ...   \n",
      "564  Wed Jan 25 15:35:25 2023             -71                 5.55, 15   \n",
      "565  Wed Jan 25 15:35:26 2023             -74                 5.55, 15   \n",
      "566  Wed Jan 25 15:35:30 2023             -71                 5.55, 15   \n",
      "567  Wed Jan 25 15:35:31 2023             -70                 5.55, 15   \n",
      "568  Wed Jan 25 15:35:32 2023             -71                 5.55, 15   \n",
      "\n",
      "    Target Coordinates [m]  Distance Target - Anchor [m]  \n",
      "0                     0, 0                        15.994  \n",
      "1                     0, 0                        15.994  \n",
      "2                     0, 0                        15.994  \n",
      "3                     0, 0                        15.994  \n",
      "4                     0, 0                        15.994  \n",
      "..                     ...                           ...  \n",
      "564                   0, 0                        15.994  \n",
      "565                   0, 0                        15.994  \n",
      "566                   0, 0                        15.994  \n",
      "567                   0, 0                        15.994  \n",
      "568                   0, 0                        15.994  \n",
      "\n",
      "[569 rows x 5 columns]\n"
     ]
    }
   ],
   "source": [
    "# In this cell a we create a Dataframe-object for each csv-file in the Scenario A -> RPI -> BLT measurement.\n",
    "# Then we add all the dataframes into an anchor name-dataframe dict so we can access them later on.\n",
    "# This cell can be altered to a function to make it more general and usable with the other measurement cases also.\n",
    "\n",
    "anchors = [\"Anchor 1.csv\", \"Anchor 2.csv\", \"Anchor 3.csv\", \"Anchor 4.csv\", \"Anchor 5.csv\", \"Anchor 6.csv\"]\n",
    "scenarioa_blt_dataframes = {}\n",
    "directory_path = \"HybridDataset_for_RSSbasedLocalization-main/Scenario A/RPI/RSS_BLT_Dataset/\"\n",
    "\n",
    "for anchor in anchors:\n",
    "    current_df = pd.read_csv(directory_path + anchor, sep=';')\n",
    "    scenarioa_blt_dataframes[anchor.replace(\".csv\",\"\")] = current_df\n",
    "\n",
    "print(scenarioa_blt_dataframes[\"Anchor 1\"])"
   ]
  },
  {
   "cell_type": "code",
   "execution_count": 43,
   "metadata": {},
   "outputs": [
    {
     "name": "stdout",
     "output_type": "stream",
     "text": [
      "{'Anchor 1': -71.31985940246045, 'Anchor 2': -75.96064400715564, 'Anchor 3': -69.59061488673139, 'Anchor 4': -70.6858407079646, 'Anchor 5': -72.95810564663023, 'Anchor 6': -59.897271268057786}\n"
     ]
    }
   ],
   "source": [
    "# This cell calculates the mean values over all the samples for each dataset and then adds them to an anchor name-mean value dict.\n",
    "# This can also be altered to function for more general use.\n",
    "# And also here we should calculate the mean over some amount of bursts instead of all samples.\n",
    "\n",
    "mean_values = {}\n",
    "\n",
    "for anchor in scenarioa_blt_dataframes:\n",
    "    power_values = scenarioa_blt_dataframes[anchor][\"Rx Power [dBm]\"].to_list()\n",
    "    average_value = np.mean(power_values)\n",
    "    mean_values[anchor] = (average_value)\n",
    "\n",
    "print(mean_values)"
   ]
  },
  {
   "cell_type": "code",
   "execution_count": 44,
   "metadata": {},
   "outputs": [
    {
     "name": "stdout",
     "output_type": "stream",
     "text": [
      "{'Anchor 1': 0.1648175730891101, 'Anchor 2': 0.12617807569471215, 'Anchor 3': 0.1820684218601984, 'Anchor 4': 0.17094404734994115, 'Anchor 5': 0.14998483816700325, 'Anchor 6': 0.31810333208308555}\n"
     ]
    }
   ],
   "source": [
    "# This cell calculates the estimated distances for each anchor using some given initial values from the article.\n",
    "# As can be seen, the estimates are clearly wrong as the estimated distances are less than 1m. \n",
    "# This is why we should calculate the mean values over bursts and not over all the samples.\n",
    "\n",
    "p_initial = -40\n",
    "n_value = 4\n",
    "estimated_distances = {}\n",
    "\n",
    "for anchor in mean_values:\n",
    "    estimated_d = 10**((mean_values[anchor]-p_initial)/(10*n_value))\n",
    "    estimated_distances[anchor] = estimated_d\n",
    "\n",
    "print(estimated_distances)"
   ]
  }
 ],
 "metadata": {
  "kernelspec": {
   "display_name": "Python 3.9.13 ('base')",
   "language": "python",
   "name": "python3"
  },
  "language_info": {
   "codemirror_mode": {
    "name": "ipython",
    "version": 3
   },
   "file_extension": ".py",
   "mimetype": "text/x-python",
   "name": "python",
   "nbconvert_exporter": "python",
   "pygments_lexer": "ipython3",
   "version": "3.9.13"
  },
  "orig_nbformat": 4,
  "vscode": {
   "interpreter": {
    "hash": "9de1696fcdaf364179ab690f77d22ede36360c9c19fea9a1e8c11e7d63264b22"
   }
  }
 },
 "nbformat": 4,
 "nbformat_minor": 2
}
