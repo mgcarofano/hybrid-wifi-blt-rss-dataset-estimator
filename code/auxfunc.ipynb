{
 "cells": [
  {
   "cell_type": "markdown",
   "id": "4b5c4724-f2a5-4cc6-a0a9-d39d22800888",
   "metadata": {},
   "source": [
    "### auxfunc.ipynb\n",
    "- Siep Dokter\n",
    "- Emil Jousimaa\n",
    "- Oleksandr Sosovskyy\n",
    "- Mario Gabriele Carofano\n",
    "\n",
    "> This file contains all the auxiliary functions used in the other .ipynb files of the repository"
   ]
  },
  {
   "cell_type": "code",
   "execution_count": 1,
   "id": "b942c68f-b12b-49cc-a3d4-7d88505b672d",
   "metadata": {},
   "outputs": [
    {
     "name": "stdout",
     "output_type": "stream",
     "text": [
      "importing Jupyter notebook from constants.ipynb\n"
     ]
    }
   ],
   "source": [
    "# IMPORTS\n",
    "import import_ipynb\n",
    "import constants\n",
    "import pandas as pd\n",
    "import numpy as np\n",
    "import os"
   ]
  },
  {
   "cell_type": "code",
   "execution_count": 2,
   "id": "ca269a2c-f925-47e8-9467-895fe8fcebc3",
   "metadata": {},
   "outputs": [],
   "source": [
    "def get_anchors_name(directory_path):\n",
    "    '''\n",
    "    Examine the dataset at 'directory_path' in order to get the anchor names.\n",
    "\n",
    "    Parameters:\n",
    "    directory_path (str): The path of the directory which contains the dataset.\n",
    "\n",
    "    Returns:\n",
    "    anchors (list): Returns a list which values are the anchors' name.\n",
    "    '''\n",
    "\n",
    "    anchors = []\n",
    "    \n",
    "    for path in os.listdir(directory_path):\n",
    "        if path.lower().endswith(\".csv\"):\n",
    "            anchors.append(path)\n",
    "\n",
    "    anchors.sort()\n",
    "\n",
    "    return anchors\n",
    "\n",
    "# https://stackoverflow.com/questions/3207219/how-do-i-list-all-files-of-a-directory\n",
    "# https://stackoverflow.com/questions/5899497/how-can-i-check-the-extension-of-a-file"
   ]
  },
  {
   "cell_type": "code",
   "execution_count": 3,
   "id": "97d55a7f-b6ae-46e2-bb76-9a4c7f2b07d1",
   "metadata": {},
   "outputs": [],
   "source": [
    "def calculate_smallest_dataset(dataframes):\n",
    "    \"\"\"\n",
    "    Calculates the minimum over all dataframes' length.\n",
    "\n",
    "    Parameters:\n",
    "    dataframes (list): a list which values are the anchors' dataframe.\n",
    "\n",
    "    Returns:\n",
    "    minimum_length (int): an integer which value represents the minimum over all dataframes' length.\n",
    "    \"\"\"\n",
    "\n",
    "    sizes = []\n",
    "\n",
    "    for anchor in range(len(dataframes)):\n",
    "        df = dataframes[anchor]\n",
    "        sizes.append(len(df))\n",
    "\n",
    "    return min(sizes)"
   ]
  },
  {
   "cell_type": "code",
   "execution_count": 4,
   "id": "bf369f51-8553-45a3-8ec9-ad34742bda40",
   "metadata": {},
   "outputs": [],
   "source": [
    "def calculate_burst_quantity(length):\n",
    "    \"\"\"\n",
    "    Calculates the amount of bursts over all dataframes.\n",
    "\n",
    "    Parameters:\n",
    "    length (int): An integer which value represents the number of data to read in the dataset.\n",
    "\n",
    "    Returns:\n",
    "    bursts (int): An integer which value represents the amount of bursts / configurations.\n",
    "    \"\"\"\n",
    "\n",
    "    bursts = length // constants.BURST_SIZE\n",
    "    end = constants.BURST_SIZE * bursts\n",
    "\n",
    "    if (end < length):\n",
    "        bursts = bursts + 1\n",
    "    \n",
    "    return bursts"
   ]
  },
  {
   "cell_type": "code",
   "execution_count": 5,
   "id": "b4e4d9ae-e3be-486d-ac3a-88cb7b7bb784",
   "metadata": {},
   "outputs": [],
   "source": [
    "def calculate_average_RSS(scenario_dataframe, length):\n",
    "    \"\"\"\n",
    "    Calculates the average RSS value over a burst of 'constants.BURST_SIZE' consecutive measurements.\n",
    "    This is the implementation of (3) on the reference paper.\n",
    "\n",
    "    Parameters:\n",
    "    scenario_dataframe (DataFrame): A DataFrame-object containing the dataset of one anchor.\n",
    "    length (int): An integer which value represents the number of data to read in the dataset.\n",
    "\n",
    "    Returns:\n",
    "    average_RSS (list): Returns a list of average RSS values.\n",
    "    \"\"\"\n",
    "    \n",
    "    average_RSS = []\n",
    "    power_values = scenario_dataframe[\"Rx Power [dBm]\"].to_list()\n",
    "    bursts = calculate_burst_quantity(length)\n",
    "\n",
    "    start = 0\n",
    "    for i in range(bursts):\n",
    "        end = start + constants.BURST_SIZE\n",
    "        # print(\"start: \", start)\n",
    "        if (end <= length):\n",
    "            # print(\"end: \", end)\n",
    "            average_RSS.append(round(np.mean(power_values[start:end]), 3))\n",
    "        else:\n",
    "            # print(\"end: \", length)\n",
    "            average_RSS.append(round(np.mean(power_values[start:length]), 3))\n",
    "        start = end\n",
    "\n",
    "    return average_RSS"
   ]
  }
 ],
 "metadata": {
  "kernelspec": {
   "display_name": "Python 3 (ipykernel)",
   "language": "python",
   "name": "python3"
  },
  "language_info": {
   "codemirror_mode": {
    "name": "ipython",
    "version": 3
   },
   "file_extension": ".py",
   "mimetype": "text/x-python",
   "name": "python",
   "nbconvert_exporter": "python",
   "pygments_lexer": "ipython3",
   "version": "3.10.10"
  }
 },
 "nbformat": 4,
 "nbformat_minor": 5
}
