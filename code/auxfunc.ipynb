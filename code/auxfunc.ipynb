{
 "cells": [
  {
   "cell_type": "markdown",
   "id": "4b5c4724-f2a5-4cc6-a0a9-d39d22800888",
   "metadata": {},
   "source": [
    "### auxfunc.ipynb\n",
    "- Siep Dokter\n",
    "- Emil Jousimaa\n",
    "- Oleksandr Sosovskyy\n",
    "- Mario Gabriele Carofano\n",
    "\n",
    "> This file contains all the auxiliary functions used in the other .ipynb files of the repository"
   ]
  },
  {
   "cell_type": "code",
   "execution_count": 13,
   "id": "b942c68f-b12b-49cc-a3d4-7d88505b672d",
   "metadata": {},
   "outputs": [],
   "source": [
    "# IMPORTS\n",
    "import import_ipynb\n",
    "import constants\n",
    "import pandas as pd\n",
    "import numpy as np\n",
    "import pprint\n",
    "import math"
   ]
  },
  {
   "cell_type": "code",
   "execution_count": 14,
   "id": "0f8813d1-2841-45e2-a5a9-08c0698e62bb",
   "metadata": {},
   "outputs": [],
   "source": [
    "def read_data(anchors, directory_path):\n",
    "    \"\"\"\n",
    "    Reads the csv-files for one specified measurement case and adds them into a dict of dataframes.\n",
    "    \n",
    "    Parameters:\n",
    "    anchors (list): List of anchors, for example [\"Anchor 1\", \"Anchor 2\", \"Anchor 3\"...]\n",
    "    directory path (string): The relative directory path of the folder which contains the wanted anchor-csv.files.\n",
    "\n",
    "    returns: \n",
    "    scenario_dataframes (dict): a dict which keys are the anchor names and values are the respective dataframes.\n",
    "    \"\"\"\n",
    "    scenario_dataframes = {}\n",
    "\n",
    "    for anchor in anchors:\n",
    "        current_df = pd.read_csv(directory_path + anchor + \".csv\", sep=';')\n",
    "        scenario_dataframes[anchor.replace(\".csv\",\"\")] = current_df\n",
    "    \n",
    "    return scenario_dataframes"
   ]
  },
  {
   "cell_type": "code",
   "execution_count": 15,
   "id": "97d55a7f-b6ae-46e2-bb76-9a4c7f2b07d1",
   "metadata": {},
   "outputs": [],
   "source": [
    "def calculate_smallest_dataset(dataframes):\n",
    "    \"\"\"\n",
    "    Calculates the minimum over all dataframes' length.\n",
    "\n",
    "    Parameters:\n",
    "    dataframes (dict): a dict which keys are the anchor names and values are the respective dataframes.\n",
    "\n",
    "    Returns:\n",
    "    minimum_length (int): an integer which value represents the minimum over all dataframes' length.\n",
    "    \"\"\"\n",
    "\n",
    "    sizes = []\n",
    "\n",
    "    for anchor in dataframes:\n",
    "        df = dataframes[anchor]\n",
    "        sizes.append(len(df))\n",
    "\n",
    "    return min(sizes)"
   ]
  },
  {
   "cell_type": "code",
   "execution_count": 16,
   "id": "bf369f51-8553-45a3-8ec9-ad34742bda40",
   "metadata": {},
   "outputs": [],
   "source": [
    "def calculate_burst_quantity(length):\n",
    "    \"\"\"\n",
    "    Calculates the amount of bursts over all dataframes.\n",
    "\n",
    "    Parameters:\n",
    "    length (int): An integer which value represents the number of data to read in the dataset.\n",
    "\n",
    "    Returns:\n",
    "    bursts (int): An integer which value represents the amount of bursts / configurations.\n",
    "    \"\"\"\n",
    "\n",
    "    bursts = length // constants.BURST_SIZE\n",
    "    end = constants.BURST_SIZE * bursts\n",
    "\n",
    "    if (end < length):\n",
    "        bursts = bursts + 1\n",
    "    \n",
    "    return bursts"
   ]
  },
  {
   "cell_type": "code",
   "execution_count": 17,
   "id": "b4e4d9ae-e3be-486d-ac3a-88cb7b7bb784",
   "metadata": {},
   "outputs": [],
   "source": [
    "def calculate_average_RSS(scenario_dataframe, length):\n",
    "    \"\"\"\n",
    "    Calculates the average RSS value over a burst of 'constants.BURST_SIZE' consecutive measurements.\n",
    "    This is the implementation of (3) on the reference paper.\n",
    "\n",
    "    Parameters:\n",
    "    scenario_dataframe (DataFrame): A DataFrame-object containing the dataset of one anchor.\n",
    "    length (int): An integer which value represents the number of data to read in the dataset.\n",
    "\n",
    "    Returns:\n",
    "    mean_values (list): Returns a list of average RSS values.\n",
    "    \"\"\"\n",
    "    \n",
    "    mean_values = []\n",
    "    power_values = scenario_dataframe[\"Rx Power [dBm]\"].to_list()\n",
    "    bursts = calculate_burst_quantity(length)\n",
    "\n",
    "    start = 0\n",
    "    for i in range(bursts):\n",
    "        end = start + constants.BURST_SIZE\n",
    "        # print(\"start: \", start)\n",
    "        if (end <= length):\n",
    "            # print(\"end: \", end)\n",
    "            mean_values.append(round(np.mean(power_values[start:end]), 3))\n",
    "        else:\n",
    "            # print(\"end: \", length)\n",
    "            mean_values.append(round(np.mean(power_values[start:length]), 3))\n",
    "        start = end\n",
    "\n",
    "    return mean_values"
   ]
  }
 ],
 "metadata": {
  "kernelspec": {
   "display_name": "Python 3 (ipykernel)",
   "language": "python",
   "name": "python3"
  },
  "language_info": {
   "codemirror_mode": {
    "name": "ipython",
    "version": 3
   },
   "file_extension": ".py",
   "mimetype": "text/x-python",
   "name": "python",
   "nbconvert_exporter": "python",
   "pygments_lexer": "ipython3",
   "version": "3.10.10"
  }
 },
 "nbformat": 4,
 "nbformat_minor": 5
}
