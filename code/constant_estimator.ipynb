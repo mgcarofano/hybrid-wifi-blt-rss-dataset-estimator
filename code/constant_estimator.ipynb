{
 "cells": [
  {
   "cell_type": "markdown",
   "metadata": {},
   "source": [
    "### constant_estimator.ipynb\n",
    "- Siep Dokter\n",
    "- Emil Jousimaa\n",
    "- Oleksandr Sosovskyy\n",
    "- Mario Gabriele Carofano\n",
    "\n",
    "> This file contains the estimation of the path loss exponent and the power received at a reference distance as described in Task 2."
   ]
  },
  {
   "cell_type": "code",
   "execution_count": 45,
   "metadata": {},
   "outputs": [],
   "source": [
    "import pandas as pd\n",
    "import numpy as np\n",
    "import matplotlib.pyplot as plt\n",
    "import math\n",
    "import re"
   ]
  },
  {
   "cell_type": "code",
   "execution_count": 46,
   "metadata": {},
   "outputs": [],
   "source": [
    "def read_dataframes(directory_path, files):\n",
    "    \"\"\"\n",
    "    Reads the filepaths and forms the dataframes.\n",
    "\n",
    "    Parameters: \n",
    "    directory_path (string): The first part of the directory path.\n",
    "    files (list): A list that contains the names of the files.\n",
    "\n",
    "    Returns:\n",
    "    A list that contains all the dataframes.\n",
    "    \"\"\"\n",
    "\n",
    "    dataframes = []\n",
    "    for power_values in files:\n",
    "            current_df = pd.read_csv(directory_path + power_values, sep=';')\n",
    "            dataframes.append(current_df)\n",
    "\n",
    "    return dataframes\n",
    "\n",
    "# https://pandas.pydata.org/docs/reference/api/pandas.read_csv.html"
   ]
  },
  {
   "cell_type": "code",
   "execution_count": 47,
   "metadata": {},
   "outputs": [],
   "source": [
    "def resize_dataframes(dataframes):\n",
    "    \"\"\"\n",
    "    Resizes the dataframes so that they are all the same size as the smallest one.\n",
    "\n",
    "    Parameters:\n",
    "    dataframes (list): A list that contains all the dataframes.\n",
    "\n",
    "    Returns:\n",
    "    A list of resized dataframes.\n",
    "    \"\"\"\n",
    "\n",
    "    smallest_df = min(dataframes, key=len)\n",
    "\n",
    "    resized_dataframes = [df.iloc[:len(smallest_df)] for df in dataframes]\n",
    "\n",
    "    return len(smallest_df), resized_dataframes"
   ]
  },
  {
   "cell_type": "code",
   "execution_count": 48,
   "metadata": {},
   "outputs": [],
   "source": [
    "def calculate_x_matrix(matrix_row_size, distances, smallest_df_size):\n",
    "    \"\"\"\n",
    "    Calculates the x_matrix (X=[1  10log(d)]) which has the size of Lx2, where L is the matrix row size.\n",
    "\n",
    "    Parameters:\n",
    "    matrix_row_size (int): The size of the matrices' rows.\n",
    "    distances (list): A list of different distances used in the measurements.\n",
    "    smallest_df_size (int): Size of the smallest dataframe.\n",
    "\n",
    "    Returns:\n",
    "    the y_matrix described in the article.\n",
    "\n",
    "    \"\"\"\n",
    "    distance_values = []\n",
    "    running_number = 0\n",
    "    for i in range(0, matrix_row_size):\n",
    "        distance_values.append(-10 * math.log10(distances[running_number]))\n",
    "        if (i + 1) % smallest_df_size == 0:\n",
    "            running_number += 1\n",
    "\n",
    "    return np.column_stack((np.ones(len(distance_values)), distance_values))\n",
    "\n",
    "# https://numpy.org/doc/stable/reference/generated/numpy.matrix.html\n",
    "# https://docs.python.org/3/library/math.html"
   ]
  },
  {
   "cell_type": "code",
   "execution_count": 49,
   "metadata": {},
   "outputs": [],
   "source": [
    "def calculate_y_matrix(resized_dataframes):\n",
    "    \"\"\"\n",
    "    Calculates the y_matrix (y=[PL(d)]) which has the size of Lx1, where L is the matrix row size.\n",
    "\n",
    "    Parameters:\n",
    "    resized_dataframes (list): A list of dataframes that all have the same size as the smallest dataset.\n",
    "\n",
    "    Returns:\n",
    "    the y_matrix described in the article.\n",
    "\n",
    "    \"\"\"\n",
    "    \n",
    "    power_values = []\n",
    "\n",
    "    for df in resized_dataframes:\n",
    "        power_values.extend(df[\"Rx Power [dBm]\"].tolist())\n",
    "\n",
    "    y_matrix = np.column_stack(power_values)\n",
    "    return np.transpose(y_matrix)\n",
    "\n",
    "# https://numpy.org/doc/stable/reference/generated/numpy.matrix.html"
   ]
  },
  {
   "cell_type": "code",
   "execution_count": 50,
   "metadata": {},
   "outputs": [
    {
     "name": "stdout",
     "output_type": "stream",
     "text": [
      "The estimated power received at a reference distance: -75.00268290617765\n",
      "\n",
      "The estimated path loss exponent: 0.3001957817116097\n"
     ]
    }
   ],
   "source": [
    "directory_path = \"../dataset/Scenario 0/RPI/RSS_BLT_Dataset/\" \n",
    "files = [\"Distanza5.csv\", \"Distanza10.csv\", \"Distanza15.csv\", \"Distanza20.csv\", \"Distanza25.csv\"]\n",
    "\n",
    "# Creates a list that contains the different distances as integers.\n",
    "distances = [int(re.search(r'\\d+', s).group()) for s in files]\n",
    "\n",
    "dataframes = read_dataframes(directory_path, files)\n",
    "\n",
    "smallest_df_size, resized_dataframes = resize_dataframes(dataframes)\n",
    "\n",
    "matrix_row_size = smallest_df_size * len(resized_dataframes)\n",
    "\n",
    "x_matrix = calculate_x_matrix(matrix_row_size, distances, smallest_df_size)\n",
    "y_matrix = calculate_y_matrix(resized_dataframes)\n",
    "\n",
    "\n",
    "# Calculation of the aplha estimation.\n",
    "left_term = np.linalg.inv(np.matmul(np.transpose(x_matrix), x_matrix))\n",
    "\n",
    "alpha_estimate = np.matmul(left_term, np.transpose(x_matrix))\n",
    "alpha_estimate = np.matmul(alpha_estimate, y_matrix)\n",
    "alpha_estimate = np.transpose(alpha_estimate)\n",
    "\n",
    "print(\"The estimated power received at a reference distance:\", alpha_estimate[0][0])\n",
    "print(\"\")\n",
    "print(\"The estimated path loss exponent:\", alpha_estimate[0][1])"
   ]
  }
 ],
 "metadata": {
  "kernelspec": {
   "display_name": "Python 3.12.1 ('estimator-env': venv)",
   "language": "python",
   "name": "python3"
  },
  "language_info": {
   "codemirror_mode": {
    "name": "ipython",
    "version": 3
   },
   "file_extension": ".py",
   "mimetype": "text/x-python",
   "name": "python",
   "nbconvert_exporter": "python",
   "pygments_lexer": "ipython3",
   "version": "3.12.1"
  },
  "orig_nbformat": 4,
  "vscode": {
   "interpreter": {
    "hash": "48e5643ea861a732702c024aa2696b6adfab8ea36b5114b758065581e40e2f46"
   }
  }
 },
 "nbformat": 4,
 "nbformat_minor": 2
}
