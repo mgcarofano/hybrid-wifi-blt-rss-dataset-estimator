{
 "cells": [
  {
   "cell_type": "markdown",
   "id": "11805543-7d4a-4989-84a5-3e3e38f7e677",
   "metadata": {},
   "source": [
    "### constants.ipynb\n",
    "- Siep Dokter\n",
    "- Emil Jousimaa\n",
    "- Oleksandr Sosovskyy\n",
    "- Mario Gabriele Carofano\n",
    "\n",
    "> This file contains the values of the error codes, useful for representing the causes of termination. In addition, there are also the values of the constants, useful for defining some parameters in the code."
   ]
  },
  {
   "cell_type": "code",
   "execution_count": 2,
   "id": "4edad073-3dbc-4d77-97cd-6e0aebd81fcf",
   "metadata": {},
   "outputs": [],
   "source": [
    "# ERROR CODES\n"
   ]
  },
  {
   "cell_type": "code",
   "execution_count": 3,
   "id": "fce881ea-a7af-4450-a625-a7130ae41310",
   "metadata": {},
   "outputs": [],
   "source": [
    "# GLOBAL CONSTANTS\n",
    "\n",
    "'''\n",
    "    BURST_SIZE : int\n",
    "    The number of consecutive samples to be collected in the selected scenario.\n",
    "'''\n",
    "\n",
    "BURST_SIZE = 10\n",
    "\n",
    "'''\n",
    "    REFERENCE_POWER : int\n",
    "    The optimal values for 'p0' used in (4) on the reference paper.\n",
    "'''\n",
    "\n",
    "REFERENCE_POWER = -40\n",
    "\n",
    "'''\n",
    "    PATH_LOSS_EXPONENT : int\n",
    "    The optimal value for 'n' used in (4) on the reference paper.\n",
    "'''\n",
    "\n",
    "PATH_LOSS_EXPONENT = 4\n",
    "\n",
    "'''\n",
    "    STANDARD_DEVIATION : int\n",
    "    The optimal value for 'σ' required by the WLS algorithm in [11, eq. (14)].\n",
    "'''\n",
    "\n",
    "STANDARD_DEVIATION = 2\n",
    "\n",
    "'''\n",
    "    SCENARIO_A_PATH : str\n",
    "    SCENARIO_B_PATH : str\n",
    "    SCENARIO_C_PATH : str\n",
    "    The dataset is organized into directories, each of which corresponds to a specific scenario.\n",
    "    In addition, there are further divided into subdirectories based on the type of technology analyzed, WiFi or BLT.\n",
    "    Finally, each subdirectory includes a .csv file for each anchor node that is part of the scenario.\n",
    "'''\n",
    "\n",
    "SCENARIO_A_PATH = \"../dataset/Scenario A/\"\n",
    "SCENARIO_B_PATH = \"../dataset/Scenario B/\"\n",
    "SCENARIO_C_PATH = \"../dataset/Scenario C/\""
   ]
  },
  {
   "cell_type": "markdown",
   "id": "776f2d74-ccb0-4ba7-91fb-a650ada4c4d1",
   "metadata": {},
   "source": [
    "### References\n",
    "[https://stackoverflow.com/questions/24133929/how-do-you-declare-a-global-constant-in-python](https://stackoverflow.com/questions/24133929/how-do-you-declare-a-global-constant-in-python)"
   ]
  },
  {
   "cell_type": "code",
   "execution_count": null,
   "id": "0f7b721d-79dd-4f42-91b9-8ef088b1e207",
   "metadata": {},
   "outputs": [],
   "source": []
  }
 ],
 "metadata": {
  "kernelspec": {
   "display_name": "Python 3 (ipykernel)",
   "language": "python",
   "name": "python3"
  },
  "language_info": {
   "codemirror_mode": {
    "name": "ipython",
    "version": 3
   },
   "file_extension": ".py",
   "mimetype": "text/x-python",
   "name": "python",
   "nbconvert_exporter": "python",
   "pygments_lexer": "ipython3",
   "version": "3.10.10"
  }
 },
 "nbformat": 4,
 "nbformat_minor": 5
}
