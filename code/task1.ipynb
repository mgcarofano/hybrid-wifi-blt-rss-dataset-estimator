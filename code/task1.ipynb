{
 "cells": [
  {
   "cell_type": "markdown",
   "metadata": {},
   "source": [
    "# Data Analytics Project Work"
   ]
  },
  {
   "cell_type": "code",
   "execution_count": null,
   "metadata": {},
   "outputs": [],
   "source": [
    "# imports\n",
    "import pandas as pd\n",
    "import numpy as np\n",
    "import matplotlib.pyplot as plt\n",
    "\n",
    "# Testing on reading one of the datasets and creating a Pandas DataFrame - object\n",
    "test_df = pd.read_csv(\"../dataset/Scenario 0/RPI/RSS_BLT_Dataset/Distanza10.csv\", sep=';')\n",
    "test_df.head()"
   ]
  },
  {
   "cell_type": "code",
   "execution_count": null,
   "metadata": {},
   "outputs": [],
   "source": [
    "test_df.info()"
   ]
  },
  {
   "cell_type": "code",
   "execution_count": null,
   "metadata": {},
   "outputs": [],
   "source": [
    "def read_data(anchors, directory_path):\n",
    "    \"\"\"\n",
    "    Reads the csv-files for one specified measurement case and adds them into a dict of dataframes.\n",
    "    \n",
    "    Parameters:\n",
    "    anchors (list): List of anchors, for example [\"Anchor 1\", \"Anchor 2\", \"Anchor 3\"...]\n",
    "    directory path (string): The relative directory path of the folder which contains the wanted anchor-csv.files.\n",
    "\n",
    "    returns: \n",
    "    dict: a dict which keys are the anchor names and values are the respective dataframes\n",
    "    \"\"\"\n",
    "    scenario_dataframes = {}\n",
    "\n",
    "    if \"Scenario B\" in directory_path:\n",
    "        for anchor in anchors:\n",
    "            current_df = pd.read_csv(directory_path + anchor + \".csv\", sep=';')\n",
    "            scenario_dataframes[anchor.replace(\".csv\",\"\")] = current_df\n",
    "    else:\n",
    "        for anchor in anchors[:-1]:\n",
    "            current_df = pd.read_csv(directory_path + anchor + \".csv\", sep=';')\n",
    "            scenario_dataframes[anchor.replace(\".csv\",\"\")] = current_df\n",
    "    \n",
    "    return scenario_dataframes\n"
   ]
  },
  {
   "cell_type": "code",
   "execution_count": null,
   "metadata": {},
   "outputs": [],
   "source": [
    "def calculate_mean_values_with_bursts(scenario_dataframe, bursts):\n",
    "    \"\"\"\n",
    "    Calculates the mean value over a given amount of bursts.\n",
    "\n",
    "    Parameters:\n",
    "    scenario_dataframe (DataFrame): A DataFrame-object containing the dataset of one anchor.\n",
    "    bursts (int): The amount of bursts.\n",
    "\n",
    "    Returns:\n",
    "    int: Returns the mean value over the given amount of bursts.\n",
    "    \"\"\"\n",
    "\n",
    "    mean_values = []\n",
    "\n",
    "    power_values = scenario_dataframe[\"Rx Power [dBm]\"].to_list()\n",
    "    list_size = len(power_values)\n",
    "    burst_size = list_size // bursts\n",
    "\n",
    "    start = 0\n",
    "    for i in range(bursts):\n",
    "        end = start + burst_size if i < bursts - 1 else list_size - 1\n",
    "        mean_values.append(power_values[end])\n",
    "        start = end\n",
    "        \n",
    "    mean_value = round(np.mean(mean_values), 4)\n",
    "    \n",
    "    return mean_value"
   ]
  },
  {
   "cell_type": "code",
   "execution_count": null,
   "metadata": {},
   "outputs": [],
   "source": [
    "def calculate_mean(scenario_dataframe):\n",
    "    \"\"\"\n",
    "    \"\"\"\n",
    "    \n",
    "    power_values = scenario_dataframe[\"Rx Power [dBm]\"].to_list()\n",
    "    mean = round(np.mean(power_values), 4)\n",
    "\n",
    "    return mean"
   ]
  },
  {
   "cell_type": "code",
   "execution_count": null,
   "metadata": {},
   "outputs": [],
   "source": [
    "def calculate_median(scenario_dataframe):\n",
    "    \"\"\"\n",
    "    \"\"\"\n",
    "\n",
    "    power_values = scenario_dataframe[\"Rx Power [dBm]\"].to_list()\n",
    "    median = round(np.median(power_values),4)\n",
    "\n",
    "    return median\n"
   ]
  },
  {
   "cell_type": "code",
   "execution_count": null,
   "metadata": {},
   "outputs": [],
   "source": [
    "def calculate_variance(scenario_dataframe): \n",
    "    \"\"\"\n",
    "    \"\"\"\n",
    "\n",
    "    power_values = scenario_dataframe[\"Rx Power [dBm]\"].to_list()\n",
    "    variance = round(np.var(power_values))\n",
    "\n",
    "    return variance\n",
    "\n",
    "# https://numpy.org/doc/stable/reference/generated/numpy.var.html"
   ]
  },
  {
   "cell_type": "code",
   "execution_count": null,
   "metadata": {},
   "outputs": [],
   "source": [
    "def calculate_estimates(p_initial, n_value, mean_values):\n",
    "    \"\"\"\n",
    "    Calculates the distance estimates for each anchor.\n",
    "\n",
    "    Parameteres:\n",
    "    p_initial (int): The initial RSS value for the distance estimation equation.\n",
    "    n_value (int): The n_value for the distance estimation formula.\n",
    "    mean_values (dict): A dict which keys are the anchor names and values are their respective mean values over the given amount of bursts\n",
    "\n",
    "    Returns:\n",
    "    dict: Returns a dict which keys are the anchor names and values are their respective distance estimations.\n",
    "    \"\"\"\n",
    "    estimated_distances = {}\n",
    "\n",
    "    for anchor in mean_values:\n",
    "        estimated_d = 10**((p_initial-mean_values[anchor])/(10*n_value))\n",
    "        estimated_distances[anchor] = estimated_d\n",
    "\n",
    "    return estimated_distances"
   ]
  },
  {
   "cell_type": "code",
   "execution_count": null,
   "metadata": {},
   "outputs": [],
   "source": [
    "def draw_boxplot(dataframes):\n",
    "    \"\"\"\n",
    "    \"\"\"\n",
    "\n",
    "    power_values = []\n",
    "    for anchor in dataframes:\n",
    "        power_values.append(dataframes[anchor][\"Rx Power [dBm]\"].to_list())\n",
    "\n",
    "    plt.boxplot(power_values)\n",
    "\n",
    "    plt.xlabel('Anchors')\n",
    "    plt.ylabel('Power Values')\n",
    "    plt.title('Boxplot for Power Values for Each Anchor')\n",
    "\n",
    "    if len(dataframes) == 6:\n",
    "        plt.xticks([1, 2, 3, 4, 5, 6], ['Anchor 1', 'Anchor 2', 'Anchor 3', 'Anchor 4', 'Anchor 5', 'Anchor 6'])\n",
    "    else:\n",
    "        plt.xticks([1, 2, 3, 4, 5, 6, 7], ['Anchor 1', 'Anchor 2', 'Anchor 3', 'Anchor 4', 'Anchor 5', 'Anchor 6', \"Anchor 7\"])\n",
    "\n",
    "\n",
    "    plt.show()\n",
    "    "
   ]
  },
  {
   "cell_type": "code",
   "execution_count": null,
   "metadata": {},
   "outputs": [],
   "source": [
    "anchors = [\"Anchor 1\", \"Anchor 2\", \"Anchor 3\", \"Anchor 4\", \"Anchor 5\", \"Anchor 6\", \"Anchor 7\"]\n",
    "directory_paths = {\"Scenario A, BLT Dataset\" : \"../dataset/Scenario A/RPI/RSS_BLT_Dataset/\", \n",
    "                    \"Scenario A, WiFi Dataset\" :\"../dataset/Scenario A/RPI/RSS_WiFi_Dataset/\",\n",
    "                    \"Scenario B, BLT Dataset\" : \"../dataset/Scenario B/RPI/RSS_BLT_Dataset/\",\n",
    "                    \"Scenario B, WiFi Dataset\" : \"../dataset/Scenario B/RPI/RSS_WiFi_Dataset/\",\n",
    "                    \"Scenario C, BLT Dataset\" : \"../dataset/Scenario C/RPI/RSS_BLT_Dataset/\",\n",
    "                    \"Scenario C, WiFi Dataset\" : \"../dataset/Scenario C/RPI/RSS_WiFi_Dataset/\"}\n"
   ]
  },
  {
   "cell_type": "code",
   "execution_count": null,
   "metadata": {},
   "outputs": [],
   "source": [
    "for key in directory_paths:\n",
    "    \n",
    "    dataframes = read_data(anchors, directory_paths[key])\n",
    "    print(key)\n",
    "    print(\"\")\n",
    "\n",
    "    bursts = 10\n",
    "\n",
    "    mean_values = {}\n",
    "    median_values = {}\n",
    "    variance_values = {}\n",
    "    for anchor in dataframes:\n",
    "        mean_values[anchor] = calculate_mean(dataframes[anchor])\n",
    "        print(anchor, \"mean value:\", mean_values[anchor])\n",
    "\n",
    "    print(\"\")\n",
    "\n",
    "    for anchor in dataframes:\n",
    "        median_values[anchor] = calculate_median(dataframes[anchor])\n",
    "        print(anchor, \"median value:\" , median_values[anchor])\n",
    "\n",
    "    print(\"\")\n",
    "\n",
    "    for anchor in dataframes:\n",
    "        variance_values[anchor] = calculate_variance(dataframes[anchor])\n",
    "        print(anchor, \"variance value:\", variance_values[anchor])\n",
    "\n",
    "    p_initial = -40\n",
    "    n_value = 2.8\n",
    "    estimated_distances = calculate_estimates(p_initial, n_value, mean_values)\n",
    "\n",
    "    print(\"\")\n",
    "\n",
    "    draw_boxplot(dataframes)\n",
    "\n",
    "    print(\"\")\n",
    "\n",
    "#for anchor in anchors:\n",
    "#    print(anchor, \"Estimated distance:\", estimated_distances[anchor])"
   ]
  }
 ],
 "metadata": {
  "kernelspec": {
   "display_name": "Python 3.9.13 ('base')",
   "language": "python",
   "name": "python3"
  },
  "language_info": {
   "codemirror_mode": {
    "name": "ipython",
    "version": 3
   },
   "file_extension": ".py",
   "mimetype": "text/x-python",
   "name": "python",
   "nbconvert_exporter": "python",
   "pygments_lexer": "ipython3",
   "version": "3.10.10"
  },
  "orig_nbformat": 4,
  "vscode": {
   "interpreter": {
    "hash": "9de1696fcdaf364179ab690f77d22ede36360c9c19fea9a1e8c11e7d63264b22"
   }
  }
 },
 "nbformat": 4,
 "nbformat_minor": 2
}
