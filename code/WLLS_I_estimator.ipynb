{
 "cells": [
  {
   "cell_type": "markdown",
   "metadata": {},
   "source": [
    "### WLLS_I_estimator.ipynb\n",
    "- Siep Dokter\n",
    "- Emil Jousimaa\n",
    "- Oleksandr Sosovskyy\n",
    "- Mario Gabriele Carofano\n",
    "\n",
    "> This file contains the implementation of 2 alternative WLLS estimators, named OS-WLLS_I (One Step) and TS-WLLS_I (Two Step), as requested in the 4th task, used for estimate the Target Coordinates starting from the RSS information coming from the anchors.\n",
    "\n",
    "> In addition, at the end of file, there are also plots showing the actual position of the target and the anchors, and the estimated position of the target obtained from the execution of the 2 estimators."
   ]
  },
  {
   "cell_type": "code",
   "execution_count": null,
   "metadata": {},
   "outputs": [],
   "source": [
    "# IMPORTS\n",
    "import import_ipynb\n",
    "import constants\n",
    "import auxfunc\n",
    "import pandas as pd\n",
    "import numpy as np\n",
    "import pprint\n",
    "import math"
   ]
  },
  {
   "cell_type": "code",
   "execution_count": null,
   "metadata": {},
   "outputs": [],
   "source": [
    "def calculate_z_vector(G, Phi, h):\n",
    "\t'''\n",
    "\t\n",
    "\t'''\n",
    "\n",
    "\tpass"
   ]
  },
  {
   "cell_type": "code",
   "execution_count": null,
   "metadata": {},
   "outputs": [],
   "source": [
    "def calculate_G_matrix():\n",
    "\t'''\n",
    "\t\n",
    "\t'''\n",
    "\n",
    "\tpass"
   ]
  },
  {
   "cell_type": "code",
   "execution_count": null,
   "metadata": {},
   "outputs": [],
   "source": [
    "def calculate_Phi_matrix(K, AI, CI):\n",
    "\t'''\n",
    "\t\n",
    "\t'''\n",
    "\n",
    "\tpass"
   ]
  },
  {
   "cell_type": "code",
   "execution_count": null,
   "metadata": {},
   "outputs": [],
   "source": [
    "def calculate_K_matrix(Lambda_WLLS):\n",
    "\t'''\n",
    "\t\n",
    "\t'''\n",
    "\n",
    "\tpass"
   ]
  },
  {
   "cell_type": "code",
   "execution_count": null,
   "metadata": {},
   "outputs": [],
   "source": [
    "def calculate_h_vector(Lambda_WLLS):\n",
    "\t'''\n",
    "\t\n",
    "\t'''\n",
    "\n",
    "\tpass"
   ]
  },
  {
   "cell_type": "code",
   "execution_count": null,
   "metadata": {},
   "outputs": [],
   "source": [
    "def calculate_AI_matrix(anchor_coords):\n",
    "\t'''\n",
    "\t\n",
    "\t'''\n",
    "\n",
    "\tpass"
   ]
  },
  {
   "cell_type": "code",
   "execution_count": null,
   "metadata": {},
   "outputs": [],
   "source": [
    "def calculate_bI_vector(anchor_coords, estimated_distances):\n",
    "\t'''\n",
    "\t\n",
    "\t'''\n",
    "\n",
    "\tpass"
   ]
  },
  {
   "cell_type": "code",
   "execution_count": null,
   "metadata": {},
   "outputs": [],
   "source": [
    "def calculate_CI_matrix(estimated_distances):\n",
    "\t'''\n",
    "\t\n",
    "\t'''\n",
    "\n",
    "\tpass"
   ]
  },
  {
   "cell_type": "code",
   "execution_count": null,
   "metadata": {},
   "outputs": [],
   "source": [
    "def calculate_Lambda_WLLS_matrix(AI, bI, CI):\n",
    "\t'''\n",
    "\t\n",
    "\t'''\n",
    "\n",
    "\tpass"
   ]
  },
  {
   "cell_type": "code",
   "execution_count": null,
   "metadata": {},
   "outputs": [],
   "source": [
    "def calculate_OS_WLLS_I_output(Lambda_WLLS):\n",
    "    '''\n",
    "    \n",
    "    '''\n",
    "\n",
    "    pass"
   ]
  },
  {
   "cell_type": "code",
   "execution_count": null,
   "metadata": {},
   "outputs": [],
   "source": [
    "def calculate_TS_WLLS_I_output(Lambda_WLLS, z):\n",
    "    '''\n",
    "    \n",
    "    '''\n",
    "\n",
    "    pass"
   ]
  },
  {
   "cell_type": "code",
   "execution_count": null,
   "metadata": {},
   "outputs": [],
   "source": [
    "def apply_WLLS_I_estimator(directory_path):\n",
    "    '''\n",
    "    \n",
    "    '''\n",
    "\n",
    "    pass"
   ]
  },
  {
   "cell_type": "code",
   "execution_count": null,
   "metadata": {},
   "outputs": [],
   "source": [
    "data = {}\n",
    "\n",
    "data[\"Scenario A\"] = {}\n",
    "data[\"Scenario B\"] = {}\n",
    "data[\"Scenario C\"] = {}\n",
    "\n",
    "data[\"Scenario A\"][\"RPI-WiFi\"] = apply_WLLS_I_estimator(constants.SCENARIO_A_PATH + \"RPI/RSS_WiFi_Dataset/\")\n",
    "data[\"Scenario A\"][\"RPI-BLT\"] = apply_WLLS_I_estimator(constants.SCENARIO_A_PATH + \"RPI/RSS_BLT_Dataset/\")\n",
    "data[\"Scenario A\"][\"RPI-Hybrid\"] = apply_WLLS_I_estimator(constants.SCENARIO_A_PATH)\n",
    "\n",
    "data[\"Scenario B\"][\"RPI-WiFi\"] = apply_WLLS_I_estimator(constants.SCENARIO_B_PATH + \"RPI/RSS_WiFi_Dataset/\")\n",
    "data[\"Scenario B\"][\"RPI-BLT\"] = apply_WLLS_I_estimator(constants.SCENARIO_B_PATH + \"RPI/RSS_BLT_Dataset/\")\n",
    "data[\"Scenario B\"][\"RPI-Hybrid\"] = apply_WLLS_I_estimator(constants.SCENARIO_B_PATH)\n",
    "\n",
    "data[\"Scenario C\"][\"RPI-WiFi\"] = apply_WLLS_I_estimator(constants.SCENARIO_C_PATH + \"RPI/RSS_WiFi_Dataset/\")\n",
    "data[\"Scenario C\"][\"RPI-BLT\"] = apply_WLLS_I_estimator(constants.SCENARIO_C_PATH + \"RPI/RSS_BLT_Dataset/\")\n",
    "data[\"Scenario C\"][\"RPI-Hybrid\"] = apply_WLLS_I_estimator(constants.SCENARIO_C_PATH)\n",
    "\n",
    "# np.set_printoptions(suppress=True)\n",
    "# pprint.pprint(data)\n",
    "# for configuration in data[\"Scenario A\"][\"RPI-WiFi\"][\"Estimated\"].values():\n",
    "#     pprint.pprint(configuration[\"Target Coordinates\"])"
   ]
  },
  {
   "cell_type": "code",
   "execution_count": null,
   "metadata": {},
   "outputs": [],
   "source": [
    "print(\"Scenario A:\")\n",
    "print(\"𝜭W:\", auxfunc.calculate_rmse(data[\"Scenario A\"][\"RPI-WiFi\"]))\n",
    "print(\"𝜭B:\", auxfunc.calculate_rmse(data[\"Scenario A\"][\"RPI-BLT\"]))\n",
    "print(\"𝜭H:\", auxfunc.calculate_rmse(data[\"Scenario A\"][\"RPI-Hybrid\"]), \"\\n\")\n",
    "\n",
    "print(\"Scenario B:\")\n",
    "print(\"𝜭W:\", auxfunc.calculate_rmse(data[\"Scenario B\"][\"RPI-WiFi\"]))\n",
    "print(\"𝜭B:\", auxfunc.calculate_rmse(data[\"Scenario B\"][\"RPI-BLT\"]))\n",
    "print(\"𝜭H:\", auxfunc.calculate_rmse(data[\"Scenario B\"][\"RPI-Hybrid\"]), \"\\n\")\n",
    "\n",
    "print(\"Scenario C:\")\n",
    "print(\"𝜭W:\", auxfunc.calculate_rmse(data[\"Scenario C\"][\"RPI-WiFi\"]))\n",
    "print(\"𝜭B:\", auxfunc.calculate_rmse(data[\"Scenario C\"][\"RPI-BLT\"]))\n",
    "print(\"𝜭H:\", auxfunc.calculate_rmse(data[\"Scenario C\"][\"RPI-Hybrid\"]))"
   ]
  },
  {
   "cell_type": "code",
   "execution_count": null,
   "metadata": {},
   "outputs": [],
   "source": [
    "auxfunc.plot_data(\"WLLS-II\", \"Scenario A\", data[\"Scenario A\"])\n",
    "auxfunc.plot_data(\"WLLS-II\", \"Scenario B\", data[\"Scenario B\"])\n",
    "auxfunc.plot_data(\"WLLS-II\", \"Scenario C\", data[\"Scenario C\"])"
   ]
  }
 ],
 "metadata": {
  "kernelspec": {
   "display_name": "base",
   "language": "python",
   "name": "python3"
  },
  "language_info": {
   "codemirror_mode": {
    "name": "ipython",
    "version": 3
   },
   "file_extension": ".py",
   "mimetype": "text/x-python",
   "name": "python",
   "nbconvert_exporter": "python",
   "pygments_lexer": "ipython3",
   "version": "3.10.10"
  }
 },
 "nbformat": 4,
 "nbformat_minor": 2
}
